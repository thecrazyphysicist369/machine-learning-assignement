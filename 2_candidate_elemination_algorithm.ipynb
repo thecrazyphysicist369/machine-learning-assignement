{
  "nbformat": 4,
  "nbformat_minor": 0,
  "metadata": {
    "colab": {
      "name": "2-candidate-elemination-algorithm.ipynb",
      "provenance": [],
      "authorship_tag": "ABX9TyNdal1ALmfIVHawX1cfJsmw",
      "include_colab_link": true
    },
    "kernelspec": {
      "name": "python3",
      "display_name": "Python 3"
    }
  },
  "cells": [
    {
      "cell_type": "markdown",
      "metadata": {
        "id": "view-in-github",
        "colab_type": "text"
      },
      "source": [
        "<a href=\"https://colab.research.google.com/github/thecrazyphysicist369/machine-learning-assignement/blob/main/2_candidate_elemination_algorithm.ipynb\" target=\"_parent\"><img src=\"https://colab.research.google.com/assets/colab-badge.svg\" alt=\"Open In Colab\"/></a>"
      ]
    },
    {
      "cell_type": "markdown",
      "metadata": {
        "id": "EGr_ADNXbarA"
      },
      "source": [
        "For a given set of training data examples stored in a .CSV file, implement the **Candidate-\n",
        "Elimination** algorithm to output a description of the set of all hypotheses consistent with the\n",
        "training examples."
      ]
    },
    {
      "cell_type": "code",
      "metadata": {
        "id": "T6ek5qJvbSA5"
      },
      "source": [
        ""
      ],
      "execution_count": null,
      "outputs": []
    }
  ]
}
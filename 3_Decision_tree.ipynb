{
  "nbformat": 4,
  "nbformat_minor": 0,
  "metadata": {
    "colab": {
      "name": "3-Decision-tree.ipynb",
      "provenance": [],
      "collapsed_sections": [],
      "authorship_tag": "ABX9TyP6MM8SmHN2FwA0dQ+9mrwT",
      "include_colab_link": true
    },
    "kernelspec": {
      "name": "python3",
      "display_name": "Python 3"
    }
  },
  "cells": [
    {
      "cell_type": "markdown",
      "metadata": {
        "id": "view-in-github",
        "colab_type": "text"
      },
      "source": [
        "<a href=\"https://colab.research.google.com/github/thecrazyphysicist369/machine-learning-assignement/blob/main/3_Decision_tree.ipynb\" target=\"_parent\"><img src=\"https://colab.research.google.com/assets/colab-badge.svg\" alt=\"Open In Colab\"/></a>"
      ]
    },
    {
      "cell_type": "markdown",
      "metadata": {
        "id": "CeuEu4-Fb_n0"
      },
      "source": [
        "Write a program to demonstrate the working of the decision tree based **ID3, C4.5 and\n",
        "CART** algorithm. Use an appropriate data set for building the decision tree and apply this\n",
        "knowledge to classify a new sample."
      ]
    },
    {
      "cell_type": "code",
      "metadata": {
        "id": "5IrWY5tAbUtZ"
      },
      "source": [
        "import csv\n",
        "import pandas as pd\n",
        "import math"
      ],
      "execution_count": 1,
      "outputs": []
    },
    {
      "cell_type": "markdown",
      "metadata": {
        "id": "YrQrc9KmbkAf"
      },
      "source": [
        "## Car Evaluation Dataset"
      ]
    },
    {
      "cell_type": "code",
      "metadata": {
        "colab": {
          "base_uri": "https://localhost:8080/"
        },
        "id": "oEzwAgKajEEc",
        "outputId": "b7004231-dc95-4971-ae20-75c276a5e1fa"
      },
      "source": [
        "!git clone https://github.com/thecrazyphysicist369/machine-learning-assignement"
      ],
      "execution_count": 2,
      "outputs": [
        {
          "output_type": "stream",
          "text": [
            "Cloning into 'machine-learning-assignement'...\n",
            "remote: Enumerating objects: 114, done.\u001b[K\n",
            "remote: Counting objects: 100% (114/114), done.\u001b[K\n",
            "remote: Compressing objects: 100% (110/110), done.\u001b[K\n",
            "remote: Total 114 (delta 57), reused 0 (delta 0), pack-reused 0\u001b[K\n",
            "Receiving objects: 100% (114/114), 250.71 KiB | 3.43 MiB/s, done.\n",
            "Resolving deltas: 100% (57/57), done.\n"
          ],
          "name": "stdout"
        }
      ]
    },
    {
      "cell_type": "code",
      "metadata": {
        "id": "440hlv14kLAF"
      },
      "source": [
        "data = pd.read_csv('/content/machine-learning-assignement/datasets/car_evaluation.csv',\n",
        "                   dtype={'price':'string',\n",
        "                         'comfort':'string',\n",
        "                         'doors':'int',\n",
        "                         'capacity':'int',\n",
        "                         'boot':'string',\n",
        "                         'safety':'string',\n",
        "                         'acceptability':'string'}\n",
        "                   )"
      ],
      "execution_count": 3,
      "outputs": []
    },
    {
      "cell_type": "code",
      "metadata": {
        "colab": {
          "base_uri": "https://localhost:8080/",
          "height": 419
        },
        "id": "0nwq9-CDjPk3",
        "outputId": "74484d9b-c333-414f-f402-9be3bf621708"
      },
      "source": [
        "data"
      ],
      "execution_count": 4,
      "outputs": [
        {
          "output_type": "execute_result",
          "data": {
            "text/html": [
              "<div>\n",
              "<style scoped>\n",
              "    .dataframe tbody tr th:only-of-type {\n",
              "        vertical-align: middle;\n",
              "    }\n",
              "\n",
              "    .dataframe tbody tr th {\n",
              "        vertical-align: top;\n",
              "    }\n",
              "\n",
              "    .dataframe thead th {\n",
              "        text-align: right;\n",
              "    }\n",
              "</style>\n",
              "<table border=\"1\" class=\"dataframe\">\n",
              "  <thead>\n",
              "    <tr style=\"text-align: right;\">\n",
              "      <th></th>\n",
              "      <th>Price</th>\n",
              "      <th>comfort</th>\n",
              "      <th>doors</th>\n",
              "      <th>capacity</th>\n",
              "      <th>boot</th>\n",
              "      <th>safety</th>\n",
              "      <th>acceptability</th>\n",
              "    </tr>\n",
              "  </thead>\n",
              "  <tbody>\n",
              "    <tr>\n",
              "      <th>0</th>\n",
              "      <td>vhigh</td>\n",
              "      <td>vhigh</td>\n",
              "      <td>2</td>\n",
              "      <td>2</td>\n",
              "      <td>small</td>\n",
              "      <td>low</td>\n",
              "      <td>unacc</td>\n",
              "    </tr>\n",
              "    <tr>\n",
              "      <th>1</th>\n",
              "      <td>vhigh</td>\n",
              "      <td>vhigh</td>\n",
              "      <td>2</td>\n",
              "      <td>2</td>\n",
              "      <td>small</td>\n",
              "      <td>med</td>\n",
              "      <td>unacc</td>\n",
              "    </tr>\n",
              "    <tr>\n",
              "      <th>2</th>\n",
              "      <td>vhigh</td>\n",
              "      <td>vhigh</td>\n",
              "      <td>2</td>\n",
              "      <td>2</td>\n",
              "      <td>small</td>\n",
              "      <td>high</td>\n",
              "      <td>unacc</td>\n",
              "    </tr>\n",
              "    <tr>\n",
              "      <th>3</th>\n",
              "      <td>vhigh</td>\n",
              "      <td>vhigh</td>\n",
              "      <td>2</td>\n",
              "      <td>2</td>\n",
              "      <td>med</td>\n",
              "      <td>low</td>\n",
              "      <td>unacc</td>\n",
              "    </tr>\n",
              "    <tr>\n",
              "      <th>4</th>\n",
              "      <td>vhigh</td>\n",
              "      <td>vhigh</td>\n",
              "      <td>2</td>\n",
              "      <td>2</td>\n",
              "      <td>med</td>\n",
              "      <td>med</td>\n",
              "      <td>unacc</td>\n",
              "    </tr>\n",
              "    <tr>\n",
              "      <th>...</th>\n",
              "      <td>...</td>\n",
              "      <td>...</td>\n",
              "      <td>...</td>\n",
              "      <td>...</td>\n",
              "      <td>...</td>\n",
              "      <td>...</td>\n",
              "      <td>...</td>\n",
              "    </tr>\n",
              "    <tr>\n",
              "      <th>1723</th>\n",
              "      <td>low</td>\n",
              "      <td>low</td>\n",
              "      <td>5</td>\n",
              "      <td>5</td>\n",
              "      <td>med</td>\n",
              "      <td>med</td>\n",
              "      <td>good</td>\n",
              "    </tr>\n",
              "    <tr>\n",
              "      <th>1724</th>\n",
              "      <td>low</td>\n",
              "      <td>low</td>\n",
              "      <td>5</td>\n",
              "      <td>5</td>\n",
              "      <td>med</td>\n",
              "      <td>high</td>\n",
              "      <td>vgood</td>\n",
              "    </tr>\n",
              "    <tr>\n",
              "      <th>1725</th>\n",
              "      <td>low</td>\n",
              "      <td>low</td>\n",
              "      <td>5</td>\n",
              "      <td>5</td>\n",
              "      <td>big</td>\n",
              "      <td>low</td>\n",
              "      <td>unacc</td>\n",
              "    </tr>\n",
              "    <tr>\n",
              "      <th>1726</th>\n",
              "      <td>low</td>\n",
              "      <td>low</td>\n",
              "      <td>5</td>\n",
              "      <td>5</td>\n",
              "      <td>big</td>\n",
              "      <td>med</td>\n",
              "      <td>good</td>\n",
              "    </tr>\n",
              "    <tr>\n",
              "      <th>1727</th>\n",
              "      <td>low</td>\n",
              "      <td>low</td>\n",
              "      <td>5</td>\n",
              "      <td>5</td>\n",
              "      <td>big</td>\n",
              "      <td>high</td>\n",
              "      <td>vgood</td>\n",
              "    </tr>\n",
              "  </tbody>\n",
              "</table>\n",
              "<p>1728 rows × 7 columns</p>\n",
              "</div>"
            ],
            "text/plain": [
              "      Price comfort  doors  capacity   boot safety acceptability\n",
              "0     vhigh   vhigh      2         2  small    low         unacc\n",
              "1     vhigh   vhigh      2         2  small    med         unacc\n",
              "2     vhigh   vhigh      2         2  small   high         unacc\n",
              "3     vhigh   vhigh      2         2    med    low         unacc\n",
              "4     vhigh   vhigh      2         2    med    med         unacc\n",
              "...     ...     ...    ...       ...    ...    ...           ...\n",
              "1723    low     low      5         5    med    med          good\n",
              "1724    low     low      5         5    med   high         vgood\n",
              "1725    low     low      5         5    big    low         unacc\n",
              "1726    low     low      5         5    big    med          good\n",
              "1727    low     low      5         5    big   high         vgood\n",
              "\n",
              "[1728 rows x 7 columns]"
            ]
          },
          "metadata": {
            "tags": []
          },
          "execution_count": 4
        }
      ]
    },
    {
      "cell_type": "code",
      "metadata": {
        "colab": {
          "base_uri": "https://localhost:8080/"
        },
        "id": "RzWVX-S_oRBS",
        "outputId": "d5bb1029-8f0a-4106-8f36-6cae0b56f912"
      },
      "source": [
        "print('price', data.Price.unique())\n",
        "print('comfort', data.comfort.unique())\n",
        "print('doors', data.doors.unique())\n",
        "print('capacity', data.capacity.unique())\n",
        "print('boot', data.boot.unique())\n",
        "print('safety', data.safety.unique())\n",
        "print('acceptability', data.acceptability.unique())"
      ],
      "execution_count": 5,
      "outputs": [
        {
          "output_type": "stream",
          "text": [
            "price ['vhigh' 'high' 'med' 'low']\n",
            "comfort <StringArray>\n",
            "['vhigh', 'high', 'med', 'low']\n",
            "Length: 4, dtype: string\n",
            "doors [2 3 4 5]\n",
            "capacity [2 4 5]\n",
            "boot <StringArray>\n",
            "['small', 'med', 'big']\n",
            "Length: 3, dtype: string\n",
            "safety <StringArray>\n",
            "['low', 'med', 'high']\n",
            "Length: 3, dtype: string\n",
            "acceptability <StringArray>\n",
            "['unacc', 'acc', 'vgood', 'good']\n",
            "Length: 4, dtype: string\n"
          ],
          "name": "stdout"
        }
      ]
    },
    {
      "cell_type": "markdown",
      "metadata": {
        "id": "ZAj4dMjfcF0n"
      },
      "source": [
        "#ID3"
      ]
    },
    {
      "cell_type": "markdown",
      "metadata": {
        "id": "X0JMYM_PyMWV"
      },
      "source": [
        "First we need to calculate the entropy of all the variables\n",
        "\n",
        "\\sum\n",
        "\n",
        "\n",
        "\n"
      ]
    },
    {
      "cell_type": "code",
      "metadata": {
        "colab": {
          "base_uri": "https://localhost:8080/"
        },
        "id": "0jZsdKfI1Tpq",
        "outputId": "1ac64872-966f-4267-8ba2-61fbbd643aba"
      },
      "source": [
        "#Price\n",
        "price_vhigh_unacc, price_vhigh_acc, price_vhigh_vgood, price_vhigh_good=0,0,0,0\n",
        "price_high_unacc, price_high_acc, price_high_vgood, price_high_good=0,0,0,0\n",
        "price_med_unacc, price_med_acc, price_med_vgood, price_med_good=0,0,0,0\n",
        "price_low_unacc, price_low_acc, price_low_vgood, price_low_good=0,0,0,0\n",
        "for i in range(1727):\n",
        "  if data.Price[i]=='vhigh':\n",
        "    if data.acceptability[i]=='unacc':\n",
        "      price_vhigh_unacc += 1\n",
        "    if data.acceptability[i]=='acc':\n",
        "      price_vhigh_acc += 1\n",
        "    if data.acceptability[i]=='good':\n",
        "      price_vhigh_good += 1\n",
        "    if data.acceptability[i]=='vgood':\n",
        "      price_vhigh_vgood += 1\n",
        "  if data.Price[i]=='high':\n",
        "    if data.acceptability[i]=='unacc':\n",
        "      price_high_unacc+=1\n",
        "    if data.acceptability[i]=='acc':\n",
        "      price_high_acc+=1\n",
        "    if data.acceptability[i]=='good':\n",
        "      price_high_good+=1\n",
        "    if data.acceptability[i]=='vgood':\n",
        "      price_high_vgood+=1\n",
        "  if data.Price[i]=='med':\n",
        "    if data.acceptability[i]=='unacc':\n",
        "      price_med_unacc+=1\n",
        "    if data.acceptability[i]=='acc':\n",
        "      price_med_acc+=1\n",
        "    if data.acceptability[i]=='good':\n",
        "      price_med_good+=1\n",
        "    if data.acceptability[i]=='vgood':\n",
        "      price_med_vgood+=1\n",
        "  if data.Price[i]=='low':\n",
        "    if data.acceptability[i]=='unacc':\n",
        "      price_low_unacc+=1\n",
        "    if data.acceptability[i]=='acc':\n",
        "      price_low_acc+=1\n",
        "    if data.acceptability[i]=='good':\n",
        "      price_low_good+=1\n",
        "    if data.acceptability[i]=='vgood':\n",
        "      price_low_vgood+=1  \n",
        "\n",
        "print(price_vhigh_unacc, price_vhigh_acc, price_vhigh_good, price_vhigh_vgood)\n",
        "\n",
        "print(price_high_unacc, price_high_acc, price_high_vgood, price_high_good)\n",
        "print(price_med_unacc, price_med_acc, price_med_vgood, price_med_good)\n",
        "print(price_low_unacc, price_low_acc, price_low_vgood, price_low_good)"
      ],
      "execution_count": 6,
      "outputs": [
        {
          "output_type": "stream",
          "text": [
            "360 72 0 0\n",
            "324 108 0 0\n",
            "268 115 26 23\n",
            "258 89 38 46\n"
          ],
          "name": "stdout"
        }
      ]
    },
    {
      "cell_type": "code",
      "metadata": {
        "id": "L8zIV8FNb4Hu"
      },
      "source": [
        "#entropy of Price Vhigh\n",
        "a,b,c,d=0,0,0,0\n",
        "if (price_vhigh_unacc/len(data)) != 0:\n",
        "  a = -(price_vhigh_unacc/len(data))*math.log2(price_vhigh_unacc/len(data))\n",
        "if (price_vhigh_acc/len(data)) !=0:\n",
        "  b = -(price_vhigh_acc/len(data))*math.log2(price_vhigh_acc/len(data))\n",
        "if (price_vhigh_vgood/len(data)) != 0:\n",
        "  c = -(price_vhigh_vgood/len(data))*math.log2(price_vhigh_vgood/len(data))\n",
        "if (price_vhigh_good/len(data)) != 0:\n",
        "  d = -(price_vhigh_good/len(data))*math.log2(price_vhigh_good/len(data))\n",
        "\n",
        "entropy_price_vhigh = a + b + c + d\n"
      ],
      "execution_count": 12,
      "outputs": []
    },
    {
      "cell_type": "code",
      "metadata": {
        "id": "pTrnPZS5-I6j"
      },
      "source": [
        "#entropy of price high\n",
        "a,b,c,d=0,0,0,0\n",
        "if (price_high_unacc/len(data)) != 0:\n",
        "  a = -(price_high_unacc/len(data))*math.log2(price_high_unacc/len(data))\n",
        "if (price_high_acc/len(data)) !=0:\n",
        "  b = -(price_high_acc/len(data))*math.log2(price_high_acc/len(data))\n",
        "if (price_high_vgood/len(data)) != 0:\n",
        "  c = -(price_high_vgood/len(data))*math.log2(price_high_vgood/len(data))\n",
        "if (price_high_good/len(data)) != 0:\n",
        "  d = -(price_high_good/len(data))*math.log2(price_high_good/len(data))\n",
        "\n",
        "entropy_price_high = a + b + c + d"
      ],
      "execution_count": 15,
      "outputs": []
    },
    {
      "cell_type": "code",
      "metadata": {
        "id": "d3Crh1tbk9zq"
      },
      "source": [
        "#entropy of Price med\n",
        "a,b,c,d=0,0,0,0\n",
        "if (price_med_unacc/len(data)) != 0:\n",
        "  a = -(price_med_unacc/len(data))*math.log2(price_med_unacc/len(data))\n",
        "if (price_med_acc/len(data)) !=0:\n",
        "  b = -(price_med_acc/len(data))*math.log2(price_med_acc/len(data))\n",
        "if (price_med_vgood/len(data)) != 0:\n",
        "  c = -(price_med_vgood/len(data))*math.log2(price_med_vgood/len(data))\n",
        "if (price_med_good/len(data)) != 0:\n",
        "  d = -(price_med_good/len(data))*math.log2(price_med_good/len(data))\n",
        "\n",
        "entropy_price_med = a + b + c + d"
      ],
      "execution_count": null,
      "outputs": []
    },
    {
      "cell_type": "code",
      "metadata": {
        "id": "gIs1Buu0bllr"
      },
      "source": [
        "#entropy of Price low\n",
        "a,b,c,d=0,0,0,0\n",
        "if (price_low_unacc/len(data)) != 0:\n",
        "  a = -(price_low_unacc/len(data))*math.log2(price_low_unacc/len(data))\n",
        "if (price_low_acc/len(data)) !=0:\n",
        "  b = -(price_low_acc/len(data))*math.log2(price_low_acc/len(data))\n",
        "if (price_low_vgood/len(data)) != 0:\n",
        "  c = -(price_low_vgood/len(data))*math.log2(price_low_vgood/len(data))\n",
        "if (price_low_good/len(data)) != 0:\n",
        "  d = -(price_low_good/len(data))*math.log2(price_low_good/len(data))\n",
        "\n",
        "entropy_price_low = a + b + c + d\n",
        "\n"
      ],
      "execution_count": 17,
      "outputs": []
    },
    {
      "cell_type": "code",
      "metadata": {
        "id": "jH-RLVXzlqca"
      },
      "source": [
        "#Entropy of the PRICE\n",
        "vhigh = price_"
      ],
      "execution_count": null,
      "outputs": []
    },
    {
      "cell_type": "markdown",
      "metadata": {
        "id": "9_ZF7nFMcIGZ"
      },
      "source": [
        "#C4.5\n"
      ]
    },
    {
      "cell_type": "code",
      "metadata": {
        "id": "ylpazkaQcNXJ"
      },
      "source": [
        ""
      ],
      "execution_count": null,
      "outputs": []
    },
    {
      "cell_type": "markdown",
      "metadata": {
        "id": "NlZL7-IAcNy2"
      },
      "source": [
        "#Classification and Regression Tree (CART)\n"
      ]
    },
    {
      "cell_type": "code",
      "metadata": {
        "id": "SpO6n3rLcTfT"
      },
      "source": [
        ""
      ],
      "execution_count": null,
      "outputs": []
    },
    {
      "cell_type": "code",
      "metadata": {
        "id": "ZZvPe_1DcU3n"
      },
      "source": [
        ""
      ],
      "execution_count": null,
      "outputs": []
    }
  ]
}
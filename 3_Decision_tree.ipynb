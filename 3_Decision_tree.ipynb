{
  "nbformat": 4,
  "nbformat_minor": 0,
  "metadata": {
    "colab": {
      "name": "3-Decision-tree.ipynb",
      "provenance": [],
      "collapsed_sections": [],
      "authorship_tag": "ABX9TyPxm+5I/eErH2SJXrjA9E6P",
      "include_colab_link": true
    },
    "kernelspec": {
      "name": "python3",
      "display_name": "Python 3"
    }
  },
  "cells": [
    {
      "cell_type": "markdown",
      "metadata": {
        "id": "view-in-github",
        "colab_type": "text"
      },
      "source": [
        "<a href=\"https://colab.research.google.com/github/thecrazyphysicist369/machine-learning-assignement/blob/main/3_Decision_tree.ipynb\" target=\"_parent\"><img src=\"https://colab.research.google.com/assets/colab-badge.svg\" alt=\"Open In Colab\"/></a>"
      ]
    },
    {
      "cell_type": "code",
      "metadata": {
        "id": "jkQb9BgpbT1k"
      },
      "source": [
        ""
      ],
      "execution_count": null,
      "outputs": []
    },
    {
      "cell_type": "markdown",
      "metadata": {
        "id": "CeuEu4-Fb_n0"
      },
      "source": [
        "Write a program to demonstrate the working of the decision tree based **ID3, C4.5 and\n",
        "CART** algorithm. Use an appropriate data set for building the decision tree and apply this\n",
        "knowledge to classify a new sample."
      ]
    },
    {
      "cell_type": "code",
      "metadata": {
        "id": "5IrWY5tAbUtZ"
      },
      "source": [
        "import csv\n",
        "import pandas as pd"
      ],
      "execution_count": 2,
      "outputs": []
    },
    {
      "cell_type": "markdown",
      "metadata": {
        "id": "YrQrc9KmbkAf"
      },
      "source": [
        "## Car Evaluation Dataset"
      ]
    },
    {
      "cell_type": "code",
      "metadata": {
        "colab": {
          "base_uri": "https://localhost:8080/"
        },
        "id": "oEzwAgKajEEc",
        "outputId": "87ce5f3d-9dc3-4be4-f7ff-71453ea0d01c"
      },
      "source": [
        "!git clone https://github.com/thecrazyphysicist369/machine-learning-assignement"
      ],
      "execution_count": 5,
      "outputs": [
        {
          "output_type": "stream",
          "text": [
            "Cloning into 'machine-learning-assignement'...\n",
            "remote: Enumerating objects: 102, done.\u001b[K\n",
            "remote: Counting objects: 100% (102/102), done.\u001b[K\n",
            "remote: Compressing objects: 100% (98/98), done.\u001b[K\n",
            "remote: Total 102 (delta 50), reused 0 (delta 0), pack-reused 0\u001b[K\n",
            "Receiving objects: 100% (102/102), 246.08 KiB | 3.97 MiB/s, done.\n",
            "Resolving deltas: 100% (50/50), done.\n"
          ],
          "name": "stdout"
        }
      ]
    },
    {
      "cell_type": "code",
      "metadata": {
        "id": "440hlv14kLAF"
      },
      "source": [
        "data = pd.read_csv('/content/machine-learning-assignement/datasets/car_evaluation.csv',\n",
        "                   dtype={'price':'string',\n",
        "                         'comfort':'string',\n",
        "                         'doors':'int',\n",
        "                         'capacity':'int',\n",
        "                         'boot':'string',\n",
        "                         'safety':'string',\n",
        "                         'acceptability':'string'}\n",
        "                   )"
      ],
      "execution_count": 13,
      "outputs": []
    },
    {
      "cell_type": "code",
      "metadata": {
        "colab": {
          "base_uri": "https://localhost:8080/",
          "height": 419
        },
        "id": "0nwq9-CDjPk3",
        "outputId": "c6168766-1cd8-46d9-a506-1896440ffcad"
      },
      "source": [
        "data"
      ],
      "execution_count": 14,
      "outputs": [
        {
          "output_type": "execute_result",
          "data": {
            "text/html": [
              "<div>\n",
              "<style scoped>\n",
              "    .dataframe tbody tr th:only-of-type {\n",
              "        vertical-align: middle;\n",
              "    }\n",
              "\n",
              "    .dataframe tbody tr th {\n",
              "        vertical-align: top;\n",
              "    }\n",
              "\n",
              "    .dataframe thead th {\n",
              "        text-align: right;\n",
              "    }\n",
              "</style>\n",
              "<table border=\"1\" class=\"dataframe\">\n",
              "  <thead>\n",
              "    <tr style=\"text-align: right;\">\n",
              "      <th></th>\n",
              "      <th>Price</th>\n",
              "      <th>comfort</th>\n",
              "      <th>doors</th>\n",
              "      <th>capacity</th>\n",
              "      <th>boot</th>\n",
              "      <th>safety</th>\n",
              "      <th>acceptability</th>\n",
              "    </tr>\n",
              "  </thead>\n",
              "  <tbody>\n",
              "    <tr>\n",
              "      <th>0</th>\n",
              "      <td>vhigh</td>\n",
              "      <td>vhigh</td>\n",
              "      <td>2</td>\n",
              "      <td>2</td>\n",
              "      <td>small</td>\n",
              "      <td>low</td>\n",
              "      <td>unacc</td>\n",
              "    </tr>\n",
              "    <tr>\n",
              "      <th>1</th>\n",
              "      <td>vhigh</td>\n",
              "      <td>vhigh</td>\n",
              "      <td>2</td>\n",
              "      <td>2</td>\n",
              "      <td>small</td>\n",
              "      <td>med</td>\n",
              "      <td>unacc</td>\n",
              "    </tr>\n",
              "    <tr>\n",
              "      <th>2</th>\n",
              "      <td>vhigh</td>\n",
              "      <td>vhigh</td>\n",
              "      <td>2</td>\n",
              "      <td>2</td>\n",
              "      <td>small</td>\n",
              "      <td>high</td>\n",
              "      <td>unacc</td>\n",
              "    </tr>\n",
              "    <tr>\n",
              "      <th>3</th>\n",
              "      <td>vhigh</td>\n",
              "      <td>vhigh</td>\n",
              "      <td>2</td>\n",
              "      <td>2</td>\n",
              "      <td>med</td>\n",
              "      <td>low</td>\n",
              "      <td>unacc</td>\n",
              "    </tr>\n",
              "    <tr>\n",
              "      <th>4</th>\n",
              "      <td>vhigh</td>\n",
              "      <td>vhigh</td>\n",
              "      <td>2</td>\n",
              "      <td>2</td>\n",
              "      <td>med</td>\n",
              "      <td>med</td>\n",
              "      <td>unacc</td>\n",
              "    </tr>\n",
              "    <tr>\n",
              "      <th>...</th>\n",
              "      <td>...</td>\n",
              "      <td>...</td>\n",
              "      <td>...</td>\n",
              "      <td>...</td>\n",
              "      <td>...</td>\n",
              "      <td>...</td>\n",
              "      <td>...</td>\n",
              "    </tr>\n",
              "    <tr>\n",
              "      <th>1723</th>\n",
              "      <td>low</td>\n",
              "      <td>low</td>\n",
              "      <td>5</td>\n",
              "      <td>5</td>\n",
              "      <td>med</td>\n",
              "      <td>med</td>\n",
              "      <td>good</td>\n",
              "    </tr>\n",
              "    <tr>\n",
              "      <th>1724</th>\n",
              "      <td>low</td>\n",
              "      <td>low</td>\n",
              "      <td>5</td>\n",
              "      <td>5</td>\n",
              "      <td>med</td>\n",
              "      <td>high</td>\n",
              "      <td>vgood</td>\n",
              "    </tr>\n",
              "    <tr>\n",
              "      <th>1725</th>\n",
              "      <td>low</td>\n",
              "      <td>low</td>\n",
              "      <td>5</td>\n",
              "      <td>5</td>\n",
              "      <td>big</td>\n",
              "      <td>low</td>\n",
              "      <td>unacc</td>\n",
              "    </tr>\n",
              "    <tr>\n",
              "      <th>1726</th>\n",
              "      <td>low</td>\n",
              "      <td>low</td>\n",
              "      <td>5</td>\n",
              "      <td>5</td>\n",
              "      <td>big</td>\n",
              "      <td>med</td>\n",
              "      <td>good</td>\n",
              "    </tr>\n",
              "    <tr>\n",
              "      <th>1727</th>\n",
              "      <td>low</td>\n",
              "      <td>low</td>\n",
              "      <td>5</td>\n",
              "      <td>5</td>\n",
              "      <td>big</td>\n",
              "      <td>high</td>\n",
              "      <td>vgood</td>\n",
              "    </tr>\n",
              "  </tbody>\n",
              "</table>\n",
              "<p>1728 rows × 7 columns</p>\n",
              "</div>"
            ],
            "text/plain": [
              "      Price comfort  doors  capacity   boot safety acceptability\n",
              "0     vhigh   vhigh      2         2  small    low         unacc\n",
              "1     vhigh   vhigh      2         2  small    med         unacc\n",
              "2     vhigh   vhigh      2         2  small   high         unacc\n",
              "3     vhigh   vhigh      2         2    med    low         unacc\n",
              "4     vhigh   vhigh      2         2    med    med         unacc\n",
              "...     ...     ...    ...       ...    ...    ...           ...\n",
              "1723    low     low      5         5    med    med          good\n",
              "1724    low     low      5         5    med   high         vgood\n",
              "1725    low     low      5         5    big    low         unacc\n",
              "1726    low     low      5         5    big    med          good\n",
              "1727    low     low      5         5    big   high         vgood\n",
              "\n",
              "[1728 rows x 7 columns]"
            ]
          },
          "metadata": {
            "tags": []
          },
          "execution_count": 14
        }
      ]
    },
    {
      "cell_type": "code",
      "metadata": {
        "colab": {
          "base_uri": "https://localhost:8080/"
        },
        "id": "RzWVX-S_oRBS",
        "outputId": "4b1dbacc-8fd7-4d68-c0fc-cc2aec1b535b"
      },
      "source": [
        "print('price', data.Price.unique())\n",
        "print('comfort', data.comfort.unique())\n",
        "print('doors', data.doors.unique())\n",
        "print('capacity', data.capacity.unique())\n",
        "print('boot', data.boot.unique())\n",
        "print('safety', data.safety.unique())\n",
        "print('acceptability', data.acceptability.unique())"
      ],
      "execution_count": 18,
      "outputs": [
        {
          "output_type": "stream",
          "text": [
            "price ['vhigh' 'high' 'med' 'low']\n",
            "comfort <StringArray>\n",
            "['vhigh', 'high', 'med', 'low']\n",
            "Length: 4, dtype: string\n",
            "doors [2 3 4 5]\n",
            "capacity [2 4 5]\n",
            "boot <StringArray>\n",
            "['small', 'med', 'big']\n",
            "Length: 3, dtype: string\n",
            "safety <StringArray>\n",
            "['low', 'med', 'high']\n",
            "Length: 3, dtype: string\n",
            "acceptability <StringArray>\n",
            "['unacc', 'acc', 'vgood', 'good']\n",
            "Length: 4, dtype: string\n"
          ],
          "name": "stdout"
        }
      ]
    },
    {
      "cell_type": "markdown",
      "metadata": {
        "id": "ZAj4dMjfcF0n"
      },
      "source": [
        "#ID3"
      ]
    },
    {
      "cell_type": "markdown",
      "metadata": {
        "id": "X0JMYM_PyMWV"
      },
      "source": [
        "First we need to calculate the entropy of all the variables"
      ]
    },
    {
      "cell_type": "code",
      "metadata": {
        "colab": {
          "base_uri": "https://localhost:8080/"
        },
        "id": "0jZsdKfI1Tpq",
        "outputId": "869272bc-9743-45fe-e013-39b81101e449"
      },
      "source": [
        "#Price\n",
        "vhigh_unacc, vhigh_acc, vhigh_vgood, vhigh_good=0\n",
        "vhigh_acc=0\n",
        "vhigh_vgood=0\n",
        "vhigh_good=0\n",
        "for i in range(1727):\n",
        "  if data.Price[i]=='vhigh':\n",
        "    if data.acceptability[i]=='unacc':\n",
        "      vhigh_unacc += 1\n",
        "    if data.acceptability[i]=='acc':\n",
        "      vhigh_acc += 1\n",
        "    if data.acceptability[i]=='good':\n",
        "      vhigh_good += 1\n",
        "    if data.acceptability[i]=='vgood':\n",
        "      vhigh_vgood += 1\n",
        "\n",
        "print(vhigh_unacc, vhigh_acc, vhigh_good, vhigh_vgood)"
      ],
      "execution_count": 29,
      "outputs": [
        {
          "output_type": "stream",
          "text": [
            "1080 144 0 0\n"
          ],
          "name": "stdout"
        }
      ]
    },
    {
      "cell_type": "code",
      "metadata": {
        "colab": {
          "base_uri": "https://localhost:8080/"
        },
        "id": "pTrnPZS5-I6j",
        "outputId": "591e5ead-5777-42e6-a951-455005bc96f2"
      },
      "source": [
        "vhigh_unacc"
      ],
      "execution_count": 27,
      "outputs": [
        {
          "output_type": "execute_result",
          "data": {
            "text/plain": [
              "360"
            ]
          },
          "metadata": {
            "tags": []
          },
          "execution_count": 27
        }
      ]
    },
    {
      "cell_type": "code",
      "metadata": {
        "id": "gIs1Buu0bllr"
      },
      "source": [
        "\n",
        "\n"
      ],
      "execution_count": 25,
      "outputs": []
    },
    {
      "cell_type": "markdown",
      "metadata": {
        "id": "9_ZF7nFMcIGZ"
      },
      "source": [
        "#C4.5\n"
      ]
    },
    {
      "cell_type": "code",
      "metadata": {
        "id": "ylpazkaQcNXJ"
      },
      "source": [
        ""
      ],
      "execution_count": null,
      "outputs": []
    },
    {
      "cell_type": "markdown",
      "metadata": {
        "id": "NlZL7-IAcNy2"
      },
      "source": [
        "#Classification and Regression Tree (CART)\n"
      ]
    },
    {
      "cell_type": "code",
      "metadata": {
        "id": "SpO6n3rLcTfT"
      },
      "source": [
        ""
      ],
      "execution_count": null,
      "outputs": []
    },
    {
      "cell_type": "code",
      "metadata": {
        "id": "ZZvPe_1DcU3n"
      },
      "source": [
        ""
      ],
      "execution_count": null,
      "outputs": []
    }
  ]
}
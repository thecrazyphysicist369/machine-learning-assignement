{
  "nbformat": 4,
  "nbformat_minor": 0,
  "metadata": {
    "colab": {
      "name": "3-Decision-tree.ipynb",
      "provenance": [],
      "collapsed_sections": [],
      "authorship_tag": "ABX9TyOaZJMM8dbUu/BkUzfZcfrG",
      "include_colab_link": true
    },
    "kernelspec": {
      "name": "python3",
      "display_name": "Python 3"
    }
  },
  "cells": [
    {
      "cell_type": "markdown",
      "metadata": {
        "id": "view-in-github",
        "colab_type": "text"
      },
      "source": [
        "<a href=\"https://colab.research.google.com/github/thecrazyphysicist369/machine-learning-assignement/blob/main/3_Decision_tree.ipynb\" target=\"_parent\"><img src=\"https://colab.research.google.com/assets/colab-badge.svg\" alt=\"Open In Colab\"/></a>"
      ]
    },
    {
      "cell_type": "markdown",
      "metadata": {
        "id": "CeuEu4-Fb_n0"
      },
      "source": [
        "Write a program to demonstrate the working of the decision tree based **ID3, C4.5 and\n",
        "CART** algorithm. Use an appropriate data set for building the decision tree and apply this\n",
        "knowledge to classify a new sample."
      ]
    },
    {
      "cell_type": "code",
      "metadata": {
        "id": "5IrWY5tAbUtZ"
      },
      "source": [
        "import csv\n",
        "import pandas as pd\n",
        "import math"
      ],
      "execution_count": 1,
      "outputs": []
    },
    {
      "cell_type": "markdown",
      "metadata": {
        "id": "YrQrc9KmbkAf"
      },
      "source": [
        "## Car Evaluation Dataset"
      ]
    },
    {
      "cell_type": "code",
      "metadata": {
        "colab": {
          "base_uri": "https://localhost:8080/"
        },
        "id": "oEzwAgKajEEc",
        "outputId": "09ac955b-4a1a-4ab2-c4e0-80eaf8599bc0"
      },
      "source": [
        "!git clone https://github.com/thecrazyphysicist369/machine-learning-assignement"
      ],
      "execution_count": 2,
      "outputs": [
        {
          "output_type": "stream",
          "text": [
            "Cloning into 'machine-learning-assignement'...\n",
            "remote: Enumerating objects: 123, done.\u001b[K\n",
            "remote: Counting objects: 100% (123/123), done.\u001b[K\n",
            "remote: Compressing objects: 100% (119/119), done.\u001b[K\n",
            "remote: Total 123 (delta 63), reused 0 (delta 0), pack-reused 0\u001b[K\n",
            "Receiving objects: 100% (123/123), 253.57 KiB | 4.02 MiB/s, done.\n",
            "Resolving deltas: 100% (63/63), done.\n"
          ],
          "name": "stdout"
        }
      ]
    },
    {
      "cell_type": "code",
      "metadata": {
        "id": "440hlv14kLAF"
      },
      "source": [
        "data = pd.read_csv('/content/machine-learning-assignement/datasets/car_evaluation.csv',\n",
        "                   dtype={'price':'string',\n",
        "                         'comfort':'string',\n",
        "                         'doors':'int',\n",
        "                         'capacity':'int',\n",
        "                         'boot':'string',\n",
        "                         'safety':'string',\n",
        "                         'acceptability':'string'}\n",
        "                   )"
      ],
      "execution_count": 3,
      "outputs": []
    },
    {
      "cell_type": "code",
      "metadata": {
        "colab": {
          "base_uri": "https://localhost:8080/",
          "height": 419
        },
        "id": "0nwq9-CDjPk3",
        "outputId": "655dd9fd-6091-4764-b9c4-4ed74b478ff7"
      },
      "source": [
        "data"
      ],
      "execution_count": 4,
      "outputs": [
        {
          "output_type": "execute_result",
          "data": {
            "text/html": [
              "<div>\n",
              "<style scoped>\n",
              "    .dataframe tbody tr th:only-of-type {\n",
              "        vertical-align: middle;\n",
              "    }\n",
              "\n",
              "    .dataframe tbody tr th {\n",
              "        vertical-align: top;\n",
              "    }\n",
              "\n",
              "    .dataframe thead th {\n",
              "        text-align: right;\n",
              "    }\n",
              "</style>\n",
              "<table border=\"1\" class=\"dataframe\">\n",
              "  <thead>\n",
              "    <tr style=\"text-align: right;\">\n",
              "      <th></th>\n",
              "      <th>Price</th>\n",
              "      <th>comfort</th>\n",
              "      <th>doors</th>\n",
              "      <th>capacity</th>\n",
              "      <th>boot</th>\n",
              "      <th>safety</th>\n",
              "      <th>acceptability</th>\n",
              "    </tr>\n",
              "  </thead>\n",
              "  <tbody>\n",
              "    <tr>\n",
              "      <th>0</th>\n",
              "      <td>vhigh</td>\n",
              "      <td>vhigh</td>\n",
              "      <td>2</td>\n",
              "      <td>2</td>\n",
              "      <td>small</td>\n",
              "      <td>low</td>\n",
              "      <td>unacc</td>\n",
              "    </tr>\n",
              "    <tr>\n",
              "      <th>1</th>\n",
              "      <td>vhigh</td>\n",
              "      <td>vhigh</td>\n",
              "      <td>2</td>\n",
              "      <td>2</td>\n",
              "      <td>small</td>\n",
              "      <td>med</td>\n",
              "      <td>unacc</td>\n",
              "    </tr>\n",
              "    <tr>\n",
              "      <th>2</th>\n",
              "      <td>vhigh</td>\n",
              "      <td>vhigh</td>\n",
              "      <td>2</td>\n",
              "      <td>2</td>\n",
              "      <td>small</td>\n",
              "      <td>high</td>\n",
              "      <td>unacc</td>\n",
              "    </tr>\n",
              "    <tr>\n",
              "      <th>3</th>\n",
              "      <td>vhigh</td>\n",
              "      <td>vhigh</td>\n",
              "      <td>2</td>\n",
              "      <td>2</td>\n",
              "      <td>med</td>\n",
              "      <td>low</td>\n",
              "      <td>unacc</td>\n",
              "    </tr>\n",
              "    <tr>\n",
              "      <th>4</th>\n",
              "      <td>vhigh</td>\n",
              "      <td>vhigh</td>\n",
              "      <td>2</td>\n",
              "      <td>2</td>\n",
              "      <td>med</td>\n",
              "      <td>med</td>\n",
              "      <td>unacc</td>\n",
              "    </tr>\n",
              "    <tr>\n",
              "      <th>...</th>\n",
              "      <td>...</td>\n",
              "      <td>...</td>\n",
              "      <td>...</td>\n",
              "      <td>...</td>\n",
              "      <td>...</td>\n",
              "      <td>...</td>\n",
              "      <td>...</td>\n",
              "    </tr>\n",
              "    <tr>\n",
              "      <th>1723</th>\n",
              "      <td>low</td>\n",
              "      <td>low</td>\n",
              "      <td>5</td>\n",
              "      <td>5</td>\n",
              "      <td>med</td>\n",
              "      <td>med</td>\n",
              "      <td>good</td>\n",
              "    </tr>\n",
              "    <tr>\n",
              "      <th>1724</th>\n",
              "      <td>low</td>\n",
              "      <td>low</td>\n",
              "      <td>5</td>\n",
              "      <td>5</td>\n",
              "      <td>med</td>\n",
              "      <td>high</td>\n",
              "      <td>vgood</td>\n",
              "    </tr>\n",
              "    <tr>\n",
              "      <th>1725</th>\n",
              "      <td>low</td>\n",
              "      <td>low</td>\n",
              "      <td>5</td>\n",
              "      <td>5</td>\n",
              "      <td>big</td>\n",
              "      <td>low</td>\n",
              "      <td>unacc</td>\n",
              "    </tr>\n",
              "    <tr>\n",
              "      <th>1726</th>\n",
              "      <td>low</td>\n",
              "      <td>low</td>\n",
              "      <td>5</td>\n",
              "      <td>5</td>\n",
              "      <td>big</td>\n",
              "      <td>med</td>\n",
              "      <td>good</td>\n",
              "    </tr>\n",
              "    <tr>\n",
              "      <th>1727</th>\n",
              "      <td>low</td>\n",
              "      <td>low</td>\n",
              "      <td>5</td>\n",
              "      <td>5</td>\n",
              "      <td>big</td>\n",
              "      <td>high</td>\n",
              "      <td>vgood</td>\n",
              "    </tr>\n",
              "  </tbody>\n",
              "</table>\n",
              "<p>1728 rows × 7 columns</p>\n",
              "</div>"
            ],
            "text/plain": [
              "      Price comfort  doors  capacity   boot safety acceptability\n",
              "0     vhigh   vhigh      2         2  small    low         unacc\n",
              "1     vhigh   vhigh      2         2  small    med         unacc\n",
              "2     vhigh   vhigh      2         2  small   high         unacc\n",
              "3     vhigh   vhigh      2         2    med    low         unacc\n",
              "4     vhigh   vhigh      2         2    med    med         unacc\n",
              "...     ...     ...    ...       ...    ...    ...           ...\n",
              "1723    low     low      5         5    med    med          good\n",
              "1724    low     low      5         5    med   high         vgood\n",
              "1725    low     low      5         5    big    low         unacc\n",
              "1726    low     low      5         5    big    med          good\n",
              "1727    low     low      5         5    big   high         vgood\n",
              "\n",
              "[1728 rows x 7 columns]"
            ]
          },
          "metadata": {
            "tags": []
          },
          "execution_count": 4
        }
      ]
    },
    {
      "cell_type": "code",
      "metadata": {
        "colab": {
          "base_uri": "https://localhost:8080/"
        },
        "id": "RzWVX-S_oRBS",
        "outputId": "cb0bc9b8-3ecd-451b-ea50-355f2290f204"
      },
      "source": [
        "print('price', data.Price.unique())\n",
        "print('comfort', data.comfort.unique())\n",
        "print('doors', data.doors.unique())\n",
        "print('capacity', data.capacity.unique())\n",
        "print('boot', data.boot.unique())\n",
        "print('safety', data.safety.unique())\n",
        "print('acceptability', data.acceptability.unique())"
      ],
      "execution_count": 5,
      "outputs": [
        {
          "output_type": "stream",
          "text": [
            "price ['vhigh' 'high' 'med' 'low']\n",
            "comfort <StringArray>\n",
            "['vhigh', 'high', 'med', 'low']\n",
            "Length: 4, dtype: string\n",
            "doors [2 3 4 5]\n",
            "capacity [2 4 5]\n",
            "boot <StringArray>\n",
            "['small', 'med', 'big']\n",
            "Length: 3, dtype: string\n",
            "safety <StringArray>\n",
            "['low', 'med', 'high']\n",
            "Length: 3, dtype: string\n",
            "acceptability <StringArray>\n",
            "['unacc', 'acc', 'vgood', 'good']\n",
            "Length: 4, dtype: string\n"
          ],
          "name": "stdout"
        }
      ]
    },
    {
      "cell_type": "markdown",
      "metadata": {
        "id": "ZAj4dMjfcF0n"
      },
      "source": [
        "#ID3"
      ]
    },
    {
      "cell_type": "markdown",
      "metadata": {
        "id": "X0JMYM_PyMWV"
      },
      "source": [
        "First we need to calculate the entropy of all the variables\n",
        "\n",
        "\\sum\n",
        "\n",
        "\n",
        "## Entropy of Price\n",
        "\n"
      ]
    },
    {
      "cell_type": "code",
      "metadata": {
        "colab": {
          "base_uri": "https://localhost:8080/"
        },
        "id": "0jZsdKfI1Tpq",
        "outputId": "043adc3c-a813-4dd9-c716-a17160ec2c25"
      },
      "source": [
        "#Price\n",
        "price_vhigh_unacc, price_vhigh_acc, price_vhigh_vgood, price_vhigh_good=0,0,0,0\n",
        "price_high_unacc, price_high_acc, price_high_vgood, price_high_good=0,0,0,0\n",
        "price_med_unacc, price_med_acc, price_med_vgood, price_med_good=0,0,0,0\n",
        "price_low_unacc, price_low_acc, price_low_vgood, price_low_good=0,0,0,0\n",
        "for i in range(1727):\n",
        "  if data.Price[i]=='vhigh':\n",
        "    if data.acceptability[i]=='unacc':\n",
        "      price_vhigh_unacc += 1\n",
        "    if data.acceptability[i]=='acc':\n",
        "      price_vhigh_acc += 1\n",
        "    if data.acceptability[i]=='good':\n",
        "      price_vhigh_good += 1\n",
        "    if data.acceptability[i]=='vgood':\n",
        "      price_vhigh_vgood += 1\n",
        "  if data.Price[i]=='high':\n",
        "    if data.acceptability[i]=='unacc':\n",
        "      price_high_unacc+=1\n",
        "    if data.acceptability[i]=='acc':\n",
        "      price_high_acc+=1\n",
        "    if data.acceptability[i]=='good':\n",
        "      price_high_good+=1\n",
        "    if data.acceptability[i]=='vgood':\n",
        "      price_high_vgood+=1\n",
        "  if data.Price[i]=='med':\n",
        "    if data.acceptability[i]=='unacc':\n",
        "      price_med_unacc+=1\n",
        "    if data.acceptability[i]=='acc':\n",
        "      price_med_acc+=1\n",
        "    if data.acceptability[i]=='good':\n",
        "      price_med_good+=1\n",
        "    if data.acceptability[i]=='vgood':\n",
        "      price_med_vgood+=1\n",
        "  if data.Price[i]=='low':\n",
        "    if data.acceptability[i]=='unacc':\n",
        "      price_low_unacc+=1\n",
        "    if data.acceptability[i]=='acc':\n",
        "      price_low_acc+=1\n",
        "    if data.acceptability[i]=='good':\n",
        "      price_low_good+=1\n",
        "    if data.acceptability[i]=='vgood':\n",
        "      price_low_vgood+=1  \n",
        "\n",
        "print(price_vhigh_unacc, price_vhigh_acc, price_vhigh_good, price_vhigh_vgood)\n",
        "print(price_high_unacc, price_high_acc, price_high_vgood, price_high_good)\n",
        "print(price_med_unacc, price_med_acc, price_med_vgood, price_med_good)\n",
        "print(price_low_unacc, price_low_acc, price_low_vgood, price_low_good)\n"
      ],
      "execution_count": 6,
      "outputs": [
        {
          "output_type": "stream",
          "text": [
            "360 72 0 0\n",
            "324 108 0 0\n",
            "268 115 26 23\n",
            "258 89 38 46\n"
          ],
          "name": "stdout"
        }
      ]
    },
    {
      "cell_type": "code",
      "metadata": {
        "id": "L8zIV8FNb4Hu"
      },
      "source": [
        "#entropy of Price Vhigh\n",
        "a,b,c,d=0,0,0,0\n",
        "if (price_vhigh_unacc/len(data)) != 0:\n",
        "  a = -(price_vhigh_unacc/len(data))*math.log2(price_vhigh_unacc/len(data))\n",
        "if (price_vhigh_acc/len(data)) !=0:\n",
        "  b = -(price_vhigh_acc/len(data))*math.log2(price_vhigh_acc/len(data))\n",
        "if (price_vhigh_vgood/len(data)) != 0:\n",
        "  c = -(price_vhigh_vgood/len(data))*math.log2(price_vhigh_vgood/len(data))\n",
        "if (price_vhigh_good/len(data)) != 0:\n",
        "  d = -(price_vhigh_good/len(data))*math.log2(price_vhigh_good/len(data))\n",
        "\n",
        "entropy_price_vhigh = a + b + c + d\n"
      ],
      "execution_count": 7,
      "outputs": []
    },
    {
      "cell_type": "code",
      "metadata": {
        "id": "pTrnPZS5-I6j"
      },
      "source": [
        "#entropy of price high\n",
        "a,b,c,d=0,0,0,0\n",
        "if (price_high_unacc/len(data)) != 0:\n",
        "  a = -(price_high_unacc/len(data))*math.log2(price_high_unacc/len(data))\n",
        "if (price_high_acc/len(data)) !=0:\n",
        "  b = -(price_high_acc/len(data))*math.log2(price_high_acc/len(data))\n",
        "if (price_high_vgood/len(data)) != 0:\n",
        "  c = -(price_high_vgood/len(data))*math.log2(price_high_vgood/len(data))\n",
        "if (price_high_good/len(data)) != 0:\n",
        "  d = -(price_high_good/len(data))*math.log2(price_high_good/len(data))\n",
        "\n",
        "entropy_price_high = a + b + c + d"
      ],
      "execution_count": 8,
      "outputs": []
    },
    {
      "cell_type": "code",
      "metadata": {
        "id": "d3Crh1tbk9zq"
      },
      "source": [
        "#entropy of Price med\n",
        "a,b,c,d=0,0,0,0\n",
        "if (price_med_unacc/len(data)) != 0:\n",
        "  a = -(price_med_unacc/len(data))*math.log2(price_med_unacc/len(data))\n",
        "if (price_med_acc/len(data)) !=0:\n",
        "  b = -(price_med_acc/len(data))*math.log2(price_med_acc/len(data))\n",
        "if (price_med_vgood/len(data)) != 0:\n",
        "  c = -(price_med_vgood/len(data))*math.log2(price_med_vgood/len(data))\n",
        "if (price_med_good/len(data)) != 0:\n",
        "  d = -(price_med_good/len(data))*math.log2(price_med_good/len(data))\n",
        "\n",
        "entropy_price_med = a + b + c + d"
      ],
      "execution_count": 9,
      "outputs": []
    },
    {
      "cell_type": "code",
      "metadata": {
        "id": "gIs1Buu0bllr"
      },
      "source": [
        "#entropy of Price low\n",
        "a,b,c,d=0,0,0,0\n",
        "if (price_low_unacc/len(data)) != 0:\n",
        "  a = -(price_low_unacc/len(data))*math.log2(price_low_unacc/len(data))\n",
        "if (price_low_acc/len(data)) !=0:\n",
        "  b = -(price_low_acc/len(data))*math.log2(price_low_acc/len(data))\n",
        "if (price_low_vgood/len(data)) != 0:\n",
        "  c = -(price_low_vgood/len(data))*math.log2(price_low_vgood/len(data))\n",
        "if (price_low_good/len(data)) != 0:\n",
        "  d = -(price_low_good/len(data))*math.log2(price_low_good/len(data))\n",
        "\n",
        "entropy_price_low = a + b + c + d\n",
        "\n"
      ],
      "execution_count": 10,
      "outputs": []
    },
    {
      "cell_type": "code",
      "metadata": {
        "colab": {
          "base_uri": "https://localhost:8080/"
        },
        "id": "jH-RLVXzlqca",
        "outputId": "480defe3-2b57-40b0-de78-8d1852a1d1ce"
      },
      "source": [
        "#Entropy of the PRICE\n",
        "vhigh = price_vhigh_acc+price_vhigh_good+price_vhigh_unacc+price_vhigh_vgood\n",
        "high = price_high_unacc+price_high_acc+price_high_vgood+price_high_good\n",
        "med = price_med_unacc+price_med_acc+price_med_vgood+price_med_good\n",
        "low = price_low_unacc+price_low_acc+price_low_vgood+price_low_good\n",
        "\n",
        "price_entropy = (entropy_price_vhigh*vhigh)/len(data)+(entropy_price_high*high)/len(data)+(entropy_price_med*med)/len(data)+(entropy_price_low*low)/len(data)\n",
        "\n",
        "\n",
        "print(price_entropy)"
      ],
      "execution_count": 11,
      "outputs": [
        {
          "output_type": "stream",
          "text": [
            "0.7762224426092195\n"
          ],
          "name": "stdout"
        }
      ]
    },
    {
      "cell_type": "code",
      "metadata": {
        "colab": {
          "base_uri": "https://localhost:8080/",
          "height": 419
        },
        "id": "_TEm5KXauZcx",
        "outputId": "eb35b5d2-51c2-44a7-bc82-35d457186c14"
      },
      "source": [
        "data"
      ],
      "execution_count": 12,
      "outputs": [
        {
          "output_type": "execute_result",
          "data": {
            "text/html": [
              "<div>\n",
              "<style scoped>\n",
              "    .dataframe tbody tr th:only-of-type {\n",
              "        vertical-align: middle;\n",
              "    }\n",
              "\n",
              "    .dataframe tbody tr th {\n",
              "        vertical-align: top;\n",
              "    }\n",
              "\n",
              "    .dataframe thead th {\n",
              "        text-align: right;\n",
              "    }\n",
              "</style>\n",
              "<table border=\"1\" class=\"dataframe\">\n",
              "  <thead>\n",
              "    <tr style=\"text-align: right;\">\n",
              "      <th></th>\n",
              "      <th>Price</th>\n",
              "      <th>comfort</th>\n",
              "      <th>doors</th>\n",
              "      <th>capacity</th>\n",
              "      <th>boot</th>\n",
              "      <th>safety</th>\n",
              "      <th>acceptability</th>\n",
              "    </tr>\n",
              "  </thead>\n",
              "  <tbody>\n",
              "    <tr>\n",
              "      <th>0</th>\n",
              "      <td>vhigh</td>\n",
              "      <td>vhigh</td>\n",
              "      <td>2</td>\n",
              "      <td>2</td>\n",
              "      <td>small</td>\n",
              "      <td>low</td>\n",
              "      <td>unacc</td>\n",
              "    </tr>\n",
              "    <tr>\n",
              "      <th>1</th>\n",
              "      <td>vhigh</td>\n",
              "      <td>vhigh</td>\n",
              "      <td>2</td>\n",
              "      <td>2</td>\n",
              "      <td>small</td>\n",
              "      <td>med</td>\n",
              "      <td>unacc</td>\n",
              "    </tr>\n",
              "    <tr>\n",
              "      <th>2</th>\n",
              "      <td>vhigh</td>\n",
              "      <td>vhigh</td>\n",
              "      <td>2</td>\n",
              "      <td>2</td>\n",
              "      <td>small</td>\n",
              "      <td>high</td>\n",
              "      <td>unacc</td>\n",
              "    </tr>\n",
              "    <tr>\n",
              "      <th>3</th>\n",
              "      <td>vhigh</td>\n",
              "      <td>vhigh</td>\n",
              "      <td>2</td>\n",
              "      <td>2</td>\n",
              "      <td>med</td>\n",
              "      <td>low</td>\n",
              "      <td>unacc</td>\n",
              "    </tr>\n",
              "    <tr>\n",
              "      <th>4</th>\n",
              "      <td>vhigh</td>\n",
              "      <td>vhigh</td>\n",
              "      <td>2</td>\n",
              "      <td>2</td>\n",
              "      <td>med</td>\n",
              "      <td>med</td>\n",
              "      <td>unacc</td>\n",
              "    </tr>\n",
              "    <tr>\n",
              "      <th>...</th>\n",
              "      <td>...</td>\n",
              "      <td>...</td>\n",
              "      <td>...</td>\n",
              "      <td>...</td>\n",
              "      <td>...</td>\n",
              "      <td>...</td>\n",
              "      <td>...</td>\n",
              "    </tr>\n",
              "    <tr>\n",
              "      <th>1723</th>\n",
              "      <td>low</td>\n",
              "      <td>low</td>\n",
              "      <td>5</td>\n",
              "      <td>5</td>\n",
              "      <td>med</td>\n",
              "      <td>med</td>\n",
              "      <td>good</td>\n",
              "    </tr>\n",
              "    <tr>\n",
              "      <th>1724</th>\n",
              "      <td>low</td>\n",
              "      <td>low</td>\n",
              "      <td>5</td>\n",
              "      <td>5</td>\n",
              "      <td>med</td>\n",
              "      <td>high</td>\n",
              "      <td>vgood</td>\n",
              "    </tr>\n",
              "    <tr>\n",
              "      <th>1725</th>\n",
              "      <td>low</td>\n",
              "      <td>low</td>\n",
              "      <td>5</td>\n",
              "      <td>5</td>\n",
              "      <td>big</td>\n",
              "      <td>low</td>\n",
              "      <td>unacc</td>\n",
              "    </tr>\n",
              "    <tr>\n",
              "      <th>1726</th>\n",
              "      <td>low</td>\n",
              "      <td>low</td>\n",
              "      <td>5</td>\n",
              "      <td>5</td>\n",
              "      <td>big</td>\n",
              "      <td>med</td>\n",
              "      <td>good</td>\n",
              "    </tr>\n",
              "    <tr>\n",
              "      <th>1727</th>\n",
              "      <td>low</td>\n",
              "      <td>low</td>\n",
              "      <td>5</td>\n",
              "      <td>5</td>\n",
              "      <td>big</td>\n",
              "      <td>high</td>\n",
              "      <td>vgood</td>\n",
              "    </tr>\n",
              "  </tbody>\n",
              "</table>\n",
              "<p>1728 rows × 7 columns</p>\n",
              "</div>"
            ],
            "text/plain": [
              "      Price comfort  doors  capacity   boot safety acceptability\n",
              "0     vhigh   vhigh      2         2  small    low         unacc\n",
              "1     vhigh   vhigh      2         2  small    med         unacc\n",
              "2     vhigh   vhigh      2         2  small   high         unacc\n",
              "3     vhigh   vhigh      2         2    med    low         unacc\n",
              "4     vhigh   vhigh      2         2    med    med         unacc\n",
              "...     ...     ...    ...       ...    ...    ...           ...\n",
              "1723    low     low      5         5    med    med          good\n",
              "1724    low     low      5         5    med   high         vgood\n",
              "1725    low     low      5         5    big    low         unacc\n",
              "1726    low     low      5         5    big    med          good\n",
              "1727    low     low      5         5    big   high         vgood\n",
              "\n",
              "[1728 rows x 7 columns]"
            ]
          },
          "metadata": {
            "tags": []
          },
          "execution_count": 12
        }
      ]
    },
    {
      "cell_type": "markdown",
      "metadata": {
        "id": "Pjt2nYI4uWWO"
      },
      "source": [
        "## Entropy of Comfort"
      ]
    },
    {
      "cell_type": "code",
      "metadata": {
        "colab": {
          "base_uri": "https://localhost:8080/"
        },
        "id": "zoQwXeIIucqj",
        "outputId": "ce0df0aa-f29f-4b4d-8eda-8a1374007dd8"
      },
      "source": [
        "#comfort\n",
        "comfort_vhigh_unacc, comfort_vhigh_acc, comfort_vhigh_vgood, comfort_vhigh_good=0,0,0,0\n",
        "comfort_high_unacc, comfort_high_acc, comfort_high_vgood, comfort_high_good=0,0,0,0\n",
        "comfort_med_unacc, comfort_med_acc, comfort_med_vgood, comfort_med_good=0,0,0,0\n",
        "comfort_low_unacc, comfort_low_acc, comfort_low_vgood, comfort_low_good=0,0,0,0\n",
        "for i in range(1727):\n",
        "  if data.comfort[i]=='vhigh':\n",
        "    if data.acceptability[i]=='unacc':\n",
        "      comfort_vhigh_unacc += 1\n",
        "    if data.acceptability[i]=='acc':\n",
        "      comfort_vhigh_acc += 1\n",
        "    if data.acceptability[i]=='good':\n",
        "      comfort_vhigh_good += 1\n",
        "    if data.acceptability[i]=='vgood':\n",
        "      comfort_vhigh_vgood += 1\n",
        "  if data.comfort[i]=='high':\n",
        "    if data.acceptability[i]=='unacc':\n",
        "      comfort_high_unacc+=1\n",
        "    if data.acceptability[i]=='acc':\n",
        "      comfort_high_acc+=1\n",
        "    if data.acceptability[i]=='good':\n",
        "      comfort_high_good+=1\n",
        "    if data.acceptability[i]=='vgood':\n",
        "      comfort_high_vgood+=1\n",
        "  if data.comfort[i]=='med':\n",
        "    if data.acceptability[i]=='unacc':\n",
        "      comfort_med_unacc+=1\n",
        "    if data.acceptability[i]=='acc':\n",
        "      comfort_med_acc+=1\n",
        "    if data.acceptability[i]=='good':\n",
        "      comfort_med_good+=1\n",
        "    if data.acceptability[i]=='vgood':\n",
        "      comfort_med_vgood+=1\n",
        "  if data.comfort[i]=='low':\n",
        "    if data.acceptability[i]=='unacc':\n",
        "      comfort_low_unacc+=1\n",
        "    if data.acceptability[i]=='acc':\n",
        "      comfort_low_acc+=1\n",
        "    if data.acceptability[i]=='good':\n",
        "      comfort_low_good+=1\n",
        "    if data.acceptability[i]=='vgood':\n",
        "      comfort_low_vgood+=1  \n",
        "\n",
        "print(comfort_vhigh_unacc, comfort_vhigh_acc, comfort_vhigh_good, comfort_vhigh_vgood)\n",
        "print(comfort_high_unacc, comfort_high_acc, comfort_high_vgood, comfort_high_good)\n",
        "print(comfort_med_unacc, comfort_med_acc, comfort_med_vgood, comfort_med_good)\n",
        "print(comfort_low_unacc, comfort_low_acc, comfort_low_vgood, comfort_low_good)"
      ],
      "execution_count": 13,
      "outputs": [
        {
          "output_type": "stream",
          "text": [
            "360 72 0 0\n",
            "314 105 13 0\n",
            "268 115 26 23\n",
            "268 92 25 46\n"
          ],
          "name": "stdout"
        }
      ]
    },
    {
      "cell_type": "code",
      "metadata": {
        "id": "q2XgCGKFw2El"
      },
      "source": [
        "#entropy of comfort Vhigh\n",
        "a,b,c,d=0,0,0,0\n",
        "if (comfort_vhigh_unacc/len(data)) != 0:\n",
        "  a = -(comfort_vhigh_unacc/len(data))*math.log2(comfort_vhigh_unacc/len(data))\n",
        "if (comfort_vhigh_acc/len(data)) !=0:\n",
        "  b = -(comfort_vhigh_acc/len(data))*math.log2(comfort_vhigh_acc/len(data))\n",
        "if (comfort_vhigh_vgood/len(data)) != 0:\n",
        "  c = -(comfort_vhigh_vgood/len(data))*math.log2(comfort_vhigh_vgood/len(data))\n",
        "if (comfort_vhigh_good/len(data)) != 0:\n",
        "  d = -(comfort_vhigh_good/len(data))*math.log2(comfort_vhigh_good/len(data))\n",
        "\n",
        "entropy_comfort_vhigh = a + b + c + d"
      ],
      "execution_count": 14,
      "outputs": []
    },
    {
      "cell_type": "code",
      "metadata": {
        "id": "edVf2mFMxgXZ"
      },
      "source": [
        "#entropy of comfort high\n",
        "a,b,c,d=0,0,0,0\n",
        "if (comfort_high_unacc/len(data)) != 0:\n",
        "  a = -(comfort_high_unacc/len(data))*math.log2(comfort_high_unacc/len(data))\n",
        "if (comfort_high_acc/len(data)) !=0:\n",
        "  b = -(comfort_high_acc/len(data))*math.log2(comfort_high_acc/len(data))\n",
        "if (comfort_high_vgood/len(data)) != 0:\n",
        "  c = -(comfort_high_vgood/len(data))*math.log2(comfort_high_vgood/len(data))\n",
        "if (comfort_high_good/len(data)) != 0:\n",
        "  d = -(comfort_high_good/len(data))*math.log2(comfort_high_good/len(data))\n",
        "\n",
        "entropy_comfort_high = a + b + c + d"
      ],
      "execution_count": 15,
      "outputs": []
    },
    {
      "cell_type": "code",
      "metadata": {
        "id": "s2OF4yP3yMEB"
      },
      "source": [
        "#entropy of comfort med\n",
        "a,b,c,d=0,0,0,0\n",
        "if (comfort_med_unacc/len(data)) != 0:\n",
        "  a = -(comfort_med_unacc/len(data))*math.log2(comfort_med_unacc/len(data))\n",
        "if (comfort_med_acc/len(data)) !=0:\n",
        "  b = -(comfort_med_acc/len(data))*math.log2(comfort_med_acc/len(data))\n",
        "if (comfort_med_vgood/len(data)) != 0:\n",
        "  c = -(comfort_med_vgood/len(data))*math.log2(comfort_med_vgood/len(data))\n",
        "if (comfort_med_good/len(data)) != 0:\n",
        "  d = -(comfort_med_good/len(data))*math.log2(comfort_med_good/len(data))\n",
        "\n",
        "entropy_comfort_med = a + b + c + d"
      ],
      "execution_count": 16,
      "outputs": []
    },
    {
      "cell_type": "code",
      "metadata": {
        "id": "QNW10yjJyvP_"
      },
      "source": [
        "#entropy of comfort low\n",
        "a,b,c,d=0,0,0,0\n",
        "if (comfort_low_unacc/len(data)) != 0:\n",
        "  a = -(comfort_low_unacc/len(data))*math.log2(comfort_low_unacc/len(data))\n",
        "if (comfort_low_acc/len(data)) !=0:\n",
        "  b = -(comfort_low_acc/len(data))*math.log2(comfort_low_acc/len(data))\n",
        "if (comfort_low_vgood/len(data)) != 0:\n",
        "  c = -(comfort_low_vgood/len(data))*math.log2(comfort_low_vgood/len(data))\n",
        "if (comfort_low_good/len(data)) != 0:\n",
        "  d = -(comfort_low_good/len(data))*math.log2(comfort_low_good/len(data))\n",
        "\n",
        "entropy_comfort_low = a + b + c + d"
      ],
      "execution_count": 17,
      "outputs": []
    },
    {
      "cell_type": "code",
      "metadata": {
        "colab": {
          "base_uri": "https://localhost:8080/"
        },
        "id": "zd3KAHL2zvDH",
        "outputId": "1435c0d9-2174-421b-c8f1-60d6b543ff63"
      },
      "source": [
        "#Entropy of the comfort\n",
        "vhigh = comfort_vhigh_acc+comfort_vhigh_good+comfort_vhigh_unacc+comfort_vhigh_vgood\n",
        "high = comfort_high_unacc+comfort_high_acc+comfort_high_vgood+comfort_high_good\n",
        "med = comfort_med_unacc+comfort_med_acc+comfort_med_vgood+comfort_med_good\n",
        "low = comfort_low_unacc+comfort_low_acc+comfort_low_vgood+comfort_low_good\n",
        "\n",
        "comfort_entropy = (entropy_comfort_vhigh*vhigh)/len(data)+(entropy_comfort_high*high)/len(data)+(entropy_comfort_med*med)/len(data)+(entropy_comfort_low*low)/len(data)\n",
        "\n",
        "\n",
        "print(comfort_entropy)\n"
      ],
      "execution_count": 18,
      "outputs": [
        {
          "output_type": "stream",
          "text": [
            "0.7818345287841654\n"
          ],
          "name": "stdout"
        }
      ]
    },
    {
      "cell_type": "code",
      "metadata": {
        "colab": {
          "base_uri": "https://localhost:8080/",
          "height": 419
        },
        "id": "pR8j6GTz6oFc",
        "outputId": "dc17caed-a15e-4d9c-9045-7b8e3ff35fbc"
      },
      "source": [
        "data\n"
      ],
      "execution_count": 20,
      "outputs": [
        {
          "output_type": "execute_result",
          "data": {
            "text/html": [
              "<div>\n",
              "<style scoped>\n",
              "    .dataframe tbody tr th:only-of-type {\n",
              "        vertical-align: middle;\n",
              "    }\n",
              "\n",
              "    .dataframe tbody tr th {\n",
              "        vertical-align: top;\n",
              "    }\n",
              "\n",
              "    .dataframe thead th {\n",
              "        text-align: right;\n",
              "    }\n",
              "</style>\n",
              "<table border=\"1\" class=\"dataframe\">\n",
              "  <thead>\n",
              "    <tr style=\"text-align: right;\">\n",
              "      <th></th>\n",
              "      <th>Price</th>\n",
              "      <th>comfort</th>\n",
              "      <th>doors</th>\n",
              "      <th>capacity</th>\n",
              "      <th>boot</th>\n",
              "      <th>safety</th>\n",
              "      <th>acceptability</th>\n",
              "    </tr>\n",
              "  </thead>\n",
              "  <tbody>\n",
              "    <tr>\n",
              "      <th>0</th>\n",
              "      <td>vhigh</td>\n",
              "      <td>vhigh</td>\n",
              "      <td>2</td>\n",
              "      <td>2</td>\n",
              "      <td>small</td>\n",
              "      <td>low</td>\n",
              "      <td>unacc</td>\n",
              "    </tr>\n",
              "    <tr>\n",
              "      <th>1</th>\n",
              "      <td>vhigh</td>\n",
              "      <td>vhigh</td>\n",
              "      <td>2</td>\n",
              "      <td>2</td>\n",
              "      <td>small</td>\n",
              "      <td>med</td>\n",
              "      <td>unacc</td>\n",
              "    </tr>\n",
              "    <tr>\n",
              "      <th>2</th>\n",
              "      <td>vhigh</td>\n",
              "      <td>vhigh</td>\n",
              "      <td>2</td>\n",
              "      <td>2</td>\n",
              "      <td>small</td>\n",
              "      <td>high</td>\n",
              "      <td>unacc</td>\n",
              "    </tr>\n",
              "    <tr>\n",
              "      <th>3</th>\n",
              "      <td>vhigh</td>\n",
              "      <td>vhigh</td>\n",
              "      <td>2</td>\n",
              "      <td>2</td>\n",
              "      <td>med</td>\n",
              "      <td>low</td>\n",
              "      <td>unacc</td>\n",
              "    </tr>\n",
              "    <tr>\n",
              "      <th>4</th>\n",
              "      <td>vhigh</td>\n",
              "      <td>vhigh</td>\n",
              "      <td>2</td>\n",
              "      <td>2</td>\n",
              "      <td>med</td>\n",
              "      <td>med</td>\n",
              "      <td>unacc</td>\n",
              "    </tr>\n",
              "    <tr>\n",
              "      <th>...</th>\n",
              "      <td>...</td>\n",
              "      <td>...</td>\n",
              "      <td>...</td>\n",
              "      <td>...</td>\n",
              "      <td>...</td>\n",
              "      <td>...</td>\n",
              "      <td>...</td>\n",
              "    </tr>\n",
              "    <tr>\n",
              "      <th>1723</th>\n",
              "      <td>low</td>\n",
              "      <td>low</td>\n",
              "      <td>5</td>\n",
              "      <td>5</td>\n",
              "      <td>med</td>\n",
              "      <td>med</td>\n",
              "      <td>good</td>\n",
              "    </tr>\n",
              "    <tr>\n",
              "      <th>1724</th>\n",
              "      <td>low</td>\n",
              "      <td>low</td>\n",
              "      <td>5</td>\n",
              "      <td>5</td>\n",
              "      <td>med</td>\n",
              "      <td>high</td>\n",
              "      <td>vgood</td>\n",
              "    </tr>\n",
              "    <tr>\n",
              "      <th>1725</th>\n",
              "      <td>low</td>\n",
              "      <td>low</td>\n",
              "      <td>5</td>\n",
              "      <td>5</td>\n",
              "      <td>big</td>\n",
              "      <td>low</td>\n",
              "      <td>unacc</td>\n",
              "    </tr>\n",
              "    <tr>\n",
              "      <th>1726</th>\n",
              "      <td>low</td>\n",
              "      <td>low</td>\n",
              "      <td>5</td>\n",
              "      <td>5</td>\n",
              "      <td>big</td>\n",
              "      <td>med</td>\n",
              "      <td>good</td>\n",
              "    </tr>\n",
              "    <tr>\n",
              "      <th>1727</th>\n",
              "      <td>low</td>\n",
              "      <td>low</td>\n",
              "      <td>5</td>\n",
              "      <td>5</td>\n",
              "      <td>big</td>\n",
              "      <td>high</td>\n",
              "      <td>vgood</td>\n",
              "    </tr>\n",
              "  </tbody>\n",
              "</table>\n",
              "<p>1728 rows × 7 columns</p>\n",
              "</div>"
            ],
            "text/plain": [
              "      Price comfort  doors  capacity   boot safety acceptability\n",
              "0     vhigh   vhigh      2         2  small    low         unacc\n",
              "1     vhigh   vhigh      2         2  small    med         unacc\n",
              "2     vhigh   vhigh      2         2  small   high         unacc\n",
              "3     vhigh   vhigh      2         2    med    low         unacc\n",
              "4     vhigh   vhigh      2         2    med    med         unacc\n",
              "...     ...     ...    ...       ...    ...    ...           ...\n",
              "1723    low     low      5         5    med    med          good\n",
              "1724    low     low      5         5    med   high         vgood\n",
              "1725    low     low      5         5    big    low         unacc\n",
              "1726    low     low      5         5    big    med          good\n",
              "1727    low     low      5         5    big   high         vgood\n",
              "\n",
              "[1728 rows x 7 columns]"
            ]
          },
          "metadata": {
            "tags": []
          },
          "execution_count": 20
        }
      ]
    },
    {
      "cell_type": "markdown",
      "metadata": {
        "id": "Xpz0aebg1hg-"
      },
      "source": [
        "## Entropy of number of Doors"
      ]
    },
    {
      "cell_type": "code",
      "metadata": {
        "colab": {
          "base_uri": "https://localhost:8080/"
        },
        "id": "8ZrVJteo1pCe",
        "outputId": "a1af7822-9f46-4e1c-e706-09eb5a429836"
      },
      "source": [
        "#doors\n",
        "doors_5_unacc, doors_5_acc, doors_5_vgood, doors_5_good=0,0,0,0\n",
        "doors_4_unacc, doors_4_acc, doors_4_vgood, doors_4_good=0,0,0,0\n",
        "doors_3_unacc, doors_3_acc, doors_3_vgood, doors_3_good=0,0,0,0\n",
        "doors_2_unacc, doors_2_acc, doors_2_vgood, doors_2_good=0,0,0,0\n",
        "for i in range(1727):\n",
        "  if data.doors[i]==5:\n",
        "    if data.acceptability[i]=='unacc':\n",
        "      doors_5_unacc += 1\n",
        "    if data.acceptability[i]=='acc':\n",
        "      doors_5_acc += 1\n",
        "    if data.acceptability[i]=='good':\n",
        "      doors_5_good += 1\n",
        "    if data.acceptability[i]=='vgood':\n",
        "      doors_5_vgood += 1\n",
        "  if data.doors[i]==4:\n",
        "    if data.acceptability[i]=='unacc':\n",
        "      doors_4_unacc+=1\n",
        "    if data.acceptability[i]=='acc':\n",
        "      doors_4_acc+=1\n",
        "    if data.acceptability[i]=='good':\n",
        "      doors_4_good+=1\n",
        "    if data.acceptability[i]=='vgood':\n",
        "      doors_4_vgood+=1\n",
        "  if data.doors[i]==3:\n",
        "    if data.acceptability[i]=='unacc':\n",
        "      doors_3_unacc+=1\n",
        "    if data.acceptability[i]=='acc':\n",
        "      doors_3_acc+=1\n",
        "    if data.acceptability[i]=='good':\n",
        "      doors_3_good+=1\n",
        "    if data.acceptability[i]=='vgood':\n",
        "      doors_3_vgood+=1\n",
        "  if data.doors[i]==2:\n",
        "    if data.acceptability[i]=='unacc':\n",
        "      doors_2_unacc+=1\n",
        "    if data.acceptability[i]=='acc':\n",
        "      doors_2_acc+=1\n",
        "    if data.acceptability[i]=='good':\n",
        "      doors_2_good+=1\n",
        "    if data.acceptability[i]=='vgood':\n",
        "      doors_2_vgood+=1  \n",
        "\n",
        "print(doors_5_unacc, doors_5_acc, doors_5_good, doors_5_vgood)\n",
        "print(doors_4_unacc, doors_4_acc, doors_4_vgood, doors_4_good)\n",
        "print(doors_3_unacc, doors_3_acc, doors_3_vgood, doors_3_good)\n",
        "print(doors_2_unacc, doors_2_acc, doors_2_vgood, doors_2_good)"
      ],
      "execution_count": 24,
      "outputs": [
        {
          "output_type": "stream",
          "text": [
            "292 102 18 19\n",
            "292 102 20 18\n",
            "300 99 15 18\n",
            "326 81 10 15\n"
          ],
          "name": "stdout"
        }
      ]
    },
    {
      "cell_type": "code",
      "metadata": {
        "id": "oyMTLN_c8tW1"
      },
      "source": [
        "#entropy of 5 doors\n",
        "a,b,c,d=0,0,0,0\n",
        "if (doors_5_unacc/len(data)) != 0:\n",
        "  a = -(doors_5_unacc/len(data))*math.log2(doors_5_unacc/len(data))\n",
        "if (doors_5_acc/len(data)) !=0:\n",
        "  b = -(doors_5_acc/len(data))*math.log2(doors_5_acc/len(data))\n",
        "if (doors_5_vgood/len(data)) != 0:\n",
        "  c = -(doors_5_vgood/len(data))*math.log2(doors_5_vgood/len(data))\n",
        "if (doors_5_good/len(data)) != 0:\n",
        "  d = -(doors_5_good/len(data))*math.log2(doors_5_good/len(data))\n",
        "\n",
        "entropy_doors_5 = a + b + c + d"
      ],
      "execution_count": 26,
      "outputs": []
    },
    {
      "cell_type": "code",
      "metadata": {
        "id": "bvBiRrvW9miV"
      },
      "source": [
        "#entropy of 4 doors\n",
        "a,b,c,d=0,0,0,0\n",
        "if (doors_4_unacc/len(data)) != 0:\n",
        "  a = -(doors_4_unacc/len(data))*math.log2(doors_4_unacc/len(data))\n",
        "if (doors_4_acc/len(data)) !=0:\n",
        "  b = -(doors_4_acc/len(data))*math.log2(doors_4_acc/len(data))\n",
        "if (doors_4_vgood/len(data)) != 0:\n",
        "  c = -(doors_4_vgood/len(data))*math.log2(doors_4_vgood/len(data))\n",
        "if (doors_4_good/len(data)) != 0:\n",
        "  d = -(doors_4_good/len(data))*math.log2(doors_4_good/len(data))\n",
        "\n",
        "entropy_doors_4 = a + b + c + d"
      ],
      "execution_count": 28,
      "outputs": []
    },
    {
      "cell_type": "code",
      "metadata": {
        "id": "C-8ydkuu-fdb"
      },
      "source": [
        "#entropy of 3 doors\n",
        "a,b,c,d=0,0,0,0\n",
        "if (doors_3_unacc/len(data)) != 0:\n",
        "  a = -(doors_3_unacc/len(data))*math.log2(doors_3_unacc/len(data))\n",
        "if (doors_3_acc/len(data)) !=0:\n",
        "  b = -(doors_3_acc/len(data))*math.log2(doors_3_acc/len(data))\n",
        "if (doors_3_vgood/len(data)) != 0:\n",
        "  c = -(doors_3_vgood/len(data))*math.log2(doors_3_vgood/len(data))\n",
        "if (doors_3_good/len(data)) != 0:\n",
        "  d = -(doors_3_good/len(data))*math.log2(doors_3_good/len(data))\n",
        "\n",
        "entropy_doors_3 = a + b + c + d"
      ],
      "execution_count": 29,
      "outputs": []
    },
    {
      "cell_type": "code",
      "metadata": {
        "id": "kRDvSl-Y-8Z8"
      },
      "source": [
        "#entropy of comfort low\n",
        "a,b,c,d=0,0,0,0\n",
        "if (doors_2_unacc/len(data)) != 0:\n",
        "  a = -(doors_2_unacc/len(data))*math.log2(doors_2_unacc/len(data))\n",
        "if (doors_2_acc/len(data)) !=0:\n",
        "  b = -(doors_2_acc/len(data))*math.log2(doors_2_acc/len(data))\n",
        "if (doors_2_vgood/len(data)) != 0:\n",
        "  c = -(doors_2_vgood/len(data))*math.log2(doors_2_vgood/len(data))\n",
        "if (doors_2_good/len(data)) != 0:\n",
        "  d = -(doors_2_good/len(data))*math.log2(doors_2_good/len(data))\n",
        "\n",
        "entropy_doors_2 = a + b + c + d"
      ],
      "execution_count": 30,
      "outputs": []
    },
    {
      "cell_type": "code",
      "metadata": {
        "colab": {
          "base_uri": "https://localhost:8080/"
        },
        "id": "LRWJxvgO_KT-",
        "outputId": "9acf4d0e-6926-4a44-df3d-4c3a0b2e51e3"
      },
      "source": [
        "#Entropy of the comfort\n",
        "doors_5 = doors_5_acc+doors_5_good+doors_5_unacc+doors_5_vgood\n",
        "doors_4 = doors_4_unacc+doors_4_acc+doors_4_vgood+doors_4_good\n",
        "doors_3 = doors_3_unacc+doors_3_acc+doors_3_vgood+doors_3_good\n",
        "doors_2 = doors_2_unacc+doors_2_acc+doors_2_vgood+doors_2_good\n",
        "\n",
        "doors_entropy = (entropy_doors_5*doors_5)/len(data)+(entropy_doors_4*doors_4)/len(data)+(entropy_doors_3*doors_3)/len(data)+(entropy_doors_2*doors_2)/len(data)\n",
        "\n",
        "\n",
        "print(doors_entropy)"
      ],
      "execution_count": 31,
      "outputs": [
        {
          "output_type": "stream",
          "text": [
            "0.7991151422295848\n"
          ],
          "name": "stdout"
        }
      ]
    },
    {
      "cell_type": "markdown",
      "metadata": {
        "id": "9_ZF7nFMcIGZ"
      },
      "source": [
        "#C4.5\n"
      ]
    },
    {
      "cell_type": "code",
      "metadata": {
        "id": "ylpazkaQcNXJ"
      },
      "source": [
        ""
      ],
      "execution_count": null,
      "outputs": []
    },
    {
      "cell_type": "markdown",
      "metadata": {
        "id": "NlZL7-IAcNy2"
      },
      "source": [
        "#Classification and Regression Tree (CART)\n"
      ]
    },
    {
      "cell_type": "code",
      "metadata": {
        "id": "SpO6n3rLcTfT"
      },
      "source": [
        ""
      ],
      "execution_count": null,
      "outputs": []
    },
    {
      "cell_type": "code",
      "metadata": {
        "id": "ZZvPe_1DcU3n"
      },
      "source": [
        ""
      ],
      "execution_count": null,
      "outputs": []
    }
  ]
}
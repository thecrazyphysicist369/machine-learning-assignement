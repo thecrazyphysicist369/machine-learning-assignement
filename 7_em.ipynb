{
  "nbformat": 4,
  "nbformat_minor": 0,
  "metadata": {
    "colab": {
      "name": "7-em.ipynb",
      "provenance": [],
      "collapsed_sections": [],
      "authorship_tag": "ABX9TyNsul9hqsqvcxrEKL/iGl5h",
      "include_colab_link": true
    },
    "kernelspec": {
      "name": "python3",
      "display_name": "Python 3"
    }
  },
  "cells": [
    {
      "cell_type": "markdown",
      "metadata": {
        "id": "view-in-github",
        "colab_type": "text"
      },
      "source": [
        "<a href=\"https://colab.research.google.com/github/thecrazyphysicist369/machine-learning-assignement/blob/main/7_em.ipynb\" target=\"_parent\"><img src=\"https://colab.research.google.com/assets/colab-badge.svg\" alt=\"Open In Colab\"/></a>"
      ]
    },
    {
      "cell_type": "markdown",
      "metadata": {
        "id": "mcUt0ghDhOYm"
      },
      "source": [
        "Apply EM algorithm to cluster a set of data stored in a .CSV file. Use the same data set for\n",
        "clustering using k-Means algorithm. Compare the results of these two algorithms and\n",
        "comment on the quality of clustering."
      ]
    },
    {
      "cell_type": "code",
      "metadata": {
        "id": "pqbCOMcDgz08",
        "colab": {
          "base_uri": "https://localhost:8080/"
        },
        "outputId": "afbbc687-7171-48ac-db0e-4373f74f076a"
      },
      "source": [
        "#Cloning the repository for dataset\n",
        "!git clone https://github.com/thecrazyphysicist369/machine-learning-assignement"
      ],
      "execution_count": 2,
      "outputs": [
        {
          "output_type": "stream",
          "text": [
            "Cloning into 'machine-learning-assignement'...\n",
            "remote: Enumerating objects: 187, done.\u001b[K\n",
            "remote: Counting objects: 100% (187/187), done.\u001b[K\n",
            "remote: Compressing objects: 100% (183/183), done.\u001b[K\n",
            "remote: Total 187 (delta 102), reused 0 (delta 0), pack-reused 0\u001b[K\n",
            "Receiving objects: 100% (187/187), 678.49 KiB | 3.31 MiB/s, done.\n",
            "Resolving deltas: 100% (102/102), done.\n"
          ],
          "name": "stdout"
        }
      ]
    },
    {
      "cell_type": "code",
      "metadata": {
        "id": "3TUxUfaoKDof"
      },
      "source": [
        "#importing all the libraries\n",
        "import pandas as pd\n",
        "import numpy as np\n",
        "from scipy.stats import multivariate_normal\n",
        "from scipy.special import logsumexp\n",
        "import matplotlib.pyplot as plt"
      ],
      "execution_count": 48,
      "outputs": []
    },
    {
      "cell_type": "code",
      "metadata": {
        "id": "SKywodsVKZeN"
      },
      "source": [
        "#importing the dataset\n",
        "data = pd.read_csv('/content/machine-learning-assignement/datasets/banknote.csv',\n",
        "                   dtype = {'A' : 'float',\n",
        "                            'B' : 'float',\n",
        "                            'C' : 'float',\n",
        "                            'D' : 'float',\n",
        "                            'Y' : 'float'})"
      ],
      "execution_count": 9,
      "outputs": []
    },
    {
      "cell_type": "code",
      "metadata": {
        "colab": {
          "base_uri": "https://localhost:8080/",
          "height": 419
        },
        "id": "E2E-PjxEKuVt",
        "outputId": "0be57dda-0bb2-4a83-adea-658136b351a9"
      },
      "source": [
        "data"
      ],
      "execution_count": 10,
      "outputs": [
        {
          "output_type": "execute_result",
          "data": {
            "text/html": [
              "<div>\n",
              "<style scoped>\n",
              "    .dataframe tbody tr th:only-of-type {\n",
              "        vertical-align: middle;\n",
              "    }\n",
              "\n",
              "    .dataframe tbody tr th {\n",
              "        vertical-align: top;\n",
              "    }\n",
              "\n",
              "    .dataframe thead th {\n",
              "        text-align: right;\n",
              "    }\n",
              "</style>\n",
              "<table border=\"1\" class=\"dataframe\">\n",
              "  <thead>\n",
              "    <tr style=\"text-align: right;\">\n",
              "      <th></th>\n",
              "      <th>A</th>\n",
              "      <th>B</th>\n",
              "      <th>C</th>\n",
              "      <th>D</th>\n",
              "      <th>Y</th>\n",
              "    </tr>\n",
              "  </thead>\n",
              "  <tbody>\n",
              "    <tr>\n",
              "      <th>0</th>\n",
              "      <td>3.62160</td>\n",
              "      <td>8.66610</td>\n",
              "      <td>-2.8073</td>\n",
              "      <td>-0.44699</td>\n",
              "      <td>0.0</td>\n",
              "    </tr>\n",
              "    <tr>\n",
              "      <th>1</th>\n",
              "      <td>4.54590</td>\n",
              "      <td>8.16740</td>\n",
              "      <td>-2.4586</td>\n",
              "      <td>-1.46210</td>\n",
              "      <td>0.0</td>\n",
              "    </tr>\n",
              "    <tr>\n",
              "      <th>2</th>\n",
              "      <td>3.86600</td>\n",
              "      <td>-2.63830</td>\n",
              "      <td>1.9242</td>\n",
              "      <td>0.10645</td>\n",
              "      <td>0.0</td>\n",
              "    </tr>\n",
              "    <tr>\n",
              "      <th>3</th>\n",
              "      <td>3.45660</td>\n",
              "      <td>9.52280</td>\n",
              "      <td>-4.0112</td>\n",
              "      <td>-3.59440</td>\n",
              "      <td>0.0</td>\n",
              "    </tr>\n",
              "    <tr>\n",
              "      <th>4</th>\n",
              "      <td>0.32924</td>\n",
              "      <td>-4.45520</td>\n",
              "      <td>4.5718</td>\n",
              "      <td>-0.98880</td>\n",
              "      <td>0.0</td>\n",
              "    </tr>\n",
              "    <tr>\n",
              "      <th>...</th>\n",
              "      <td>...</td>\n",
              "      <td>...</td>\n",
              "      <td>...</td>\n",
              "      <td>...</td>\n",
              "      <td>...</td>\n",
              "    </tr>\n",
              "    <tr>\n",
              "      <th>1367</th>\n",
              "      <td>0.40614</td>\n",
              "      <td>1.34920</td>\n",
              "      <td>-1.4501</td>\n",
              "      <td>-0.55949</td>\n",
              "      <td>1.0</td>\n",
              "    </tr>\n",
              "    <tr>\n",
              "      <th>1368</th>\n",
              "      <td>-1.38870</td>\n",
              "      <td>-4.87730</td>\n",
              "      <td>6.4774</td>\n",
              "      <td>0.34179</td>\n",
              "      <td>1.0</td>\n",
              "    </tr>\n",
              "    <tr>\n",
              "      <th>1369</th>\n",
              "      <td>-3.75030</td>\n",
              "      <td>-13.45860</td>\n",
              "      <td>17.5932</td>\n",
              "      <td>-2.77710</td>\n",
              "      <td>1.0</td>\n",
              "    </tr>\n",
              "    <tr>\n",
              "      <th>1370</th>\n",
              "      <td>-3.56370</td>\n",
              "      <td>-8.38270</td>\n",
              "      <td>12.3930</td>\n",
              "      <td>-1.28230</td>\n",
              "      <td>1.0</td>\n",
              "    </tr>\n",
              "    <tr>\n",
              "      <th>1371</th>\n",
              "      <td>-2.54190</td>\n",
              "      <td>-0.65804</td>\n",
              "      <td>2.6842</td>\n",
              "      <td>1.19520</td>\n",
              "      <td>1.0</td>\n",
              "    </tr>\n",
              "  </tbody>\n",
              "</table>\n",
              "<p>1372 rows × 5 columns</p>\n",
              "</div>"
            ],
            "text/plain": [
              "            A         B        C        D    Y\n",
              "0     3.62160   8.66610  -2.8073 -0.44699  0.0\n",
              "1     4.54590   8.16740  -2.4586 -1.46210  0.0\n",
              "2     3.86600  -2.63830   1.9242  0.10645  0.0\n",
              "3     3.45660   9.52280  -4.0112 -3.59440  0.0\n",
              "4     0.32924  -4.45520   4.5718 -0.98880  0.0\n",
              "...       ...       ...      ...      ...  ...\n",
              "1367  0.40614   1.34920  -1.4501 -0.55949  1.0\n",
              "1368 -1.38870  -4.87730   6.4774  0.34179  1.0\n",
              "1369 -3.75030 -13.45860  17.5932 -2.77710  1.0\n",
              "1370 -3.56370  -8.38270  12.3930 -1.28230  1.0\n",
              "1371 -2.54190  -0.65804   2.6842  1.19520  1.0\n",
              "\n",
              "[1372 rows x 5 columns]"
            ]
          },
          "metadata": {
            "tags": []
          },
          "execution_count": 10
        }
      ]
    },
    {
      "cell_type": "code",
      "metadata": {
        "id": "0IgM492xKvWd"
      },
      "source": [
        "#Splitting the data into\n",
        "#features\n",
        "x_labeled = data[['A', 'B', 'C', 'D']].values\n",
        "\n",
        "#labels\n",
        "y_labeled = data['Y'].values"
      ],
      "execution_count": 17,
      "outputs": []
    },
    {
      "cell_type": "code",
      "metadata": {
        "id": "vi7l4VD2cyPw"
      },
      "source": [
        "#the expectation step\n",
        "def e_step(x, params):\n",
        "    np.log([multivariate_normal(params[\"mu0\"], params[\"sigma0\"]).pdf(x),\n",
        "            multivariate_normal(params[\"mu1\"], params[\"sigma1\"]).pdf(x)])\n",
        "    log_p_y_x = np.log([1-params[\"phi\"], params[\"phi\"]])[np.newaxis, ...] + \\\n",
        "                np.log([multivariate_normal(params[\"mu0\"], params[\"sigma0\"]).pdf(x),\n",
        "            multivariate_normal(params[\"mu1\"], params[\"sigma1\"]).pdf(x)]).T\n",
        "    log_p_y_x_norm = logsumexp(log_p_y_x, axis=1)\n",
        "    return log_p_y_x_norm, np.exp(log_p_y_x - log_p_y_x_norm[..., np.newaxis])"
      ],
      "execution_count": 40,
      "outputs": []
    },
    {
      "cell_type": "code",
      "metadata": {
        "id": "0j2CvOCQhHA6"
      },
      "source": [
        "#the maximisation step\n",
        "def m_step(x, params):\n",
        "    total_count = x.shape[0]\n",
        "    _, heuristics = e_step(x, params)\n",
        "    heuristic0 = heuristics[:, 0]\n",
        "    heuristic1 = heuristics[:, 1]\n",
        "    sum_heuristic1 = np.sum(heuristic1)\n",
        "    sum_heuristic0 = np.sum(heuristic0)\n",
        "    phi = (sum_heuristic1/total_count)\n",
        "    mu0 = (heuristic0[..., np.newaxis].T.dot(x)/sum_heuristic0).flatten()\n",
        "    mu1 = (heuristic1[..., np.newaxis].T.dot(x)/sum_heuristic1).flatten()\n",
        "    diff0 = x - mu0\n",
        "    sigma0 = diff0.T.dot(diff0 * heuristic0[..., np.newaxis]) / sum_heuristic0\n",
        "    diff1 = x - mu1\n",
        "    sigma1 = diff1.T.dot(diff1 * heuristic1[..., np.newaxis]) / sum_heuristic1\n",
        "    params = {'phi': phi, 'mu0': mu0, 'mu1': mu1, 'sigma0': sigma0, 'sigma1': sigma1}\n",
        "    return params"
      ],
      "execution_count": 31,
      "outputs": []
    },
    {
      "cell_type": "code",
      "metadata": {
        "id": "OZYzVzvZhbn_"
      },
      "source": [
        "#the logarithm of average likelihood\n",
        "def get_avg_log_likelihood(x, params):\n",
        "    loglikelihood, _ = e_step(x, params)\n",
        "    return np.mean(loglikelihood)\n",
        "\n",
        "#expectation maximisation step\n",
        "def run_em(x, params):\n",
        "    avg_loglikelihoods = []\n",
        "    while True:\n",
        "        avg_loglikelihood = get_avg_log_likelihood(x, params)\n",
        "        avg_loglikelihoods.append(avg_loglikelihood)\n",
        "        if len(avg_loglikelihoods) > 2 and abs(avg_loglikelihoods[-1] - avg_loglikelihoods[-2]) < 0.0001:\n",
        "            break\n",
        "        params = m_step(x_labeled, params)\n",
        "    print(\"\\tphi: %s\\n\\tmu_0: %s\\n\\tmu_1: %s\\n\\tsigma_0: %s\\n\\tsigma_1: %s\"\n",
        "               % (params['phi'], params['mu0'], params['mu1'], params['sigma0'], params['sigma1']))\n",
        "    _, posterior = e_step(x_labeled, params)\n",
        "    forecasts = np.argmax(posterior, axis=1)\n",
        "    return forecasts, posterior, avg_loglikelihoods"
      ],
      "execution_count": 46,
      "outputs": []
    },
    {
      "cell_type": "code",
      "metadata": {
        "id": "w-k6o5HkLNEl"
      },
      "source": [
        "#fucntion to learn the parameters\n",
        "def learn_parameters(x, y):\n",
        "  n = x.shape[0]\n",
        "  phi =x[y==1].shape[0]/n\n",
        "  mu0 = np.sum(x[y==0], axis=0)/x[y==0].shape[0]\n",
        "  mu1 = np.sum(x[y==1], axis=0)/x[y==1].shape[0]\n",
        "  sigma0 = np.cov(x[y==0].T, bias=True)\n",
        "  sigma1 = np.cov(x[y==1].T, bias=True)\n",
        "  return {'phi' : phi,\n",
        "          'mu0' : mu0,\n",
        "          'mu1' : mu1,\n",
        "          'sigma0' : sigma0,\n",
        "          'sigma1' : sigma1}"
      ],
      "execution_count": 33,
      "outputs": []
    },
    {
      "cell_type": "code",
      "metadata": {
        "colab": {
          "base_uri": "https://localhost:8080/"
        },
        "id": "WEdAZabSXuSO",
        "outputId": "8e0afb37-8b80-418d-8f63-22a93dd8dd3a"
      },
      "source": [
        "#calling the function\n",
        "learned_parameters = learn_parameters(x_labeled, y_labeled)\n",
        "s_forecasts, s_posterior, s_loglikelihoods = run_em(x_labeled, learned_parameters)\n"
      ],
      "execution_count": 47,
      "outputs": [
        {
          "output_type": "stream",
          "text": [
            "\tphi: 0.4803174122020675\n",
            "\tmu_0: [ 2.439936    4.33976632  0.83318472 -1.03968323]\n",
            "\tmu_1: [-1.73688685 -0.69318301  2.00832928 -1.35608502]\n",
            "\tsigma_0: [[  3.86014196  -2.42274093  -2.5160283    1.52782474]\n",
            " [ -2.42274093  25.67662017 -12.10897386  -7.16811451]\n",
            " [ -2.5160283  -12.10897386  10.43251768   2.56239802]\n",
            " [  1.52782474  -7.16811451   2.56239802   4.20587656]]\n",
            "\tsigma_1: [[  3.56984082   0.86117617  -4.43497333   1.09984022]\n",
            " [  0.86117617  30.71735301 -25.23637147  -6.5740902 ]\n",
            " [ -4.43497333 -25.23637147  26.64179031   3.42755359]\n",
            " [  1.09984022  -6.5740902    3.42755359   4.58099   ]]\n"
          ],
          "name": "stdout"
        }
      ]
    },
    {
      "cell_type": "code",
      "metadata": {
        "colab": {
          "base_uri": "https://localhost:8080/",
          "height": 298
        },
        "id": "eoKRETu9XzxN",
        "outputId": "32b16c31-817d-481d-a32e-2479f80db95f"
      },
      "source": [
        "#Semi-Supervised Log_Likelihoods\n",
        "print(\"total steps: \", len(s_loglikelihoods))\n",
        "plt.plot(s_loglikelihoods)\n",
        "plt.title(\"semi-supervised log likelihoods\")\n",
        "plt.show()"
      ],
      "execution_count": 49,
      "outputs": [
        {
          "output_type": "stream",
          "text": [
            "total steps:  13\n"
          ],
          "name": "stdout"
        },
        {
          "output_type": "display_data",
          "data": {
            "image/png": "[encoded data removed]",
            "text/plain": [
              "<Figure size 432x288 with 1 Axes>"
            ]
          },
          "metadata": {
            "tags": [],
            "needs_background": "light"
          }
        }
      ]
    },
    {
      "cell_type": "code",
      "metadata": {
        "colab": {
          "base_uri": "https://localhost:8080/",
          "height": 298
        },
        "id": "Oe9CIxlpmMI3",
        "outputId": "e478a13a-2b5d-49c8-d9e3-e44769725255"
      },
      "source": [
        "#Semi-supervised forecasts\n",
        "print(\"total steps: \", len(s_forecasts))\n",
        "plt.plot(s_forecasts)\n",
        "plt.title(\"semi-supervised forecasts\")\n",
        "plt.show()"
      ],
      "execution_count": 50,
      "outputs": [
        {
          "output_type": "stream",
          "text": [
            "total steps:  1372\n"
          ],
          "name": "stdout"
        },
        {
          "output_type": "display_data",
          "data": {
            "image/png": "[encoded data removed]",
            "text/plain": [
              "<Figure size 432x288 with 1 Axes>"
            ]
          },
          "metadata": {
            "tags": [],
            "needs_background": "light"
          }
        }
      ]
    },
    {
      "cell_type": "code",
      "metadata": {
        "colab": {
          "base_uri": "https://localhost:8080/",
          "height": 298
        },
        "id": "LBLK1Je4n-9A",
        "outputId": "aacad0ec-6c04-463d-f53c-f29abb04eccc"
      },
      "source": [
        "#Semi-supervised posterior \n",
        "print(\"total steps: \", len(s_posterior))\n",
        "plt.plot(s_posterior)\n",
        "plt.title(\"semi-supervised posterior\")\n",
        "plt.show()"
      ],
      "execution_count": 51,
      "outputs": [
        {
          "output_type": "stream",
          "text": [
            "total steps:  1372\n"
          ],
          "name": "stdout"
        },
        {
          "output_type": "display_data",
          "data": {
            "image/png": "[encoded data removed]",
            "text/plain": [
              "<Figure size 432x288 with 1 Axes>"
            ]
          },
          "metadata": {
            "tags": [],
            "needs_background": "light"
          }
        }
      ]
    },
    {
      "cell_type": "code",
      "metadata": {
        "id": "7aq675Bdopcm"
      },
      "source": [
        ""
      ],
      "execution_count": null,
      "outputs": []
    }
  ]
}
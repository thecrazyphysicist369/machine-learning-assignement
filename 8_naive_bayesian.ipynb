{
  "nbformat": 4,
  "nbformat_minor": 0,
  "metadata": {
    "colab": {
      "name": "8-naive-bayesian.ipynb",
      "provenance": [],
      "collapsed_sections": [],
      "authorship_tag": "ABX9TyNS6ueEVylPRTVdxXqasFea",
      "include_colab_link": true
    },
    "kernelspec": {
      "name": "python3",
      "display_name": "Python 3"
    }
  },
  "cells": [
    {
      "cell_type": "markdown",
      "metadata": {
        "id": "view-in-github",
        "colab_type": "text"
      },
      "source": [
        "<a href=\"https://colab.research.google.com/github/thecrazyphysicist369/machine-learning-assignement/blob/main/8_naive_bayesian.ipynb\" target=\"_parent\"><img src=\"https://colab.research.google.com/assets/colab-badge.svg\" alt=\"Open In Colab\"/></a>"
      ]
    },
    {
      "cell_type": "markdown",
      "metadata": {
        "id": "IeWmAloKhjf-"
      },
      "source": [
        "Write a program to implement the naïve Bayesian classifier for a sample training data set\n",
        "stored as a .CSV file. Compute the accuracy of the classifier, considering few test data sets."
      ]
    },
    {
      "cell_type": "code",
      "metadata": {
        "id": "YU5Hu7WgAyx2"
      },
      "source": [
        "import numpy as np\n",
        "from sklearn import preprocessing\n",
        "from sklearn.naive_bayes import GaussianNB"
      ],
      "execution_count": 15,
      "outputs": []
    },
    {
      "cell_type": "code",
      "metadata": {
        "id": "ClPbVAqkhKe0"
      },
      "source": [
        "#Dataset\n",
        "weather=['Sunny','Sunny','Overcast','Rainy','Rainy','Rainy','Overcast','Sunny','Sunny',\n",
        "'Rainy','Sunny','Overcast','Overcast','Rainy']\n",
        "\n",
        "temp=['Hot','Hot','Hot','Mild','Cool','Cool','Cool','Mild','Cool','Mild','Mild','Mild','Hot','Mild']\n",
        "\n",
        "play=['No','No','Yes','Yes','Yes','No','Yes','No','Yes','Yes','Yes','Yes','Yes','No']"
      ],
      "execution_count": 2,
      "outputs": []
    },
    {
      "cell_type": "code",
      "metadata": {
        "colab": {
          "base_uri": "https://localhost:8080/"
        },
        "id": "dQgu6ybJ7Wh6",
        "outputId": "aaedca87-25b3-467d-a724-abf78d98d0e9"
      },
      "source": [
        "\n",
        "\n",
        "#creating labelEncoder\n",
        "le = preprocessing.LabelEncoder()\n",
        "# Converting string labels into numbers.\n",
        "temp_encoded=le.fit_transform(temp)\n",
        "label=le.fit_transform(play)\n",
        "weather_encoded=le.fit_transform(weather)\n",
        "print(\"Weather : \", weather_encoded)\n",
        "print(\"Temperature : \", temp_encoded)\n",
        "print(\"Label : \", label)\n"
      ],
      "execution_count": 4,
      "outputs": [
        {
          "output_type": "stream",
          "text": [
            "Weather :  [2 2 0 1 1 1 0 2 2 1 2 0 0 1]\n",
            "Temperature :  [1 1 1 2 0 0 0 2 0 2 2 2 1 2]\n",
            "Label :  [0 0 1 1 1 0 1 0 1 1 1 1 1 0]\n"
          ],
          "name": "stdout"
        }
      ]
    },
    {
      "cell_type": "code",
      "metadata": {
        "colab": {
          "base_uri": "https://localhost:8080/"
        },
        "id": "aAdcM29s7diz",
        "outputId": "92d6b09b-0ebc-45eb-9535-90a7534173b2"
      },
      "source": [
        "features =  list(zip(weather_encoded, temp_encoded))\n",
        "features"
      ],
      "execution_count": 17,
      "outputs": [
        {
          "output_type": "execute_result",
          "data": {
            "text/plain": [
              "[(2, 1),\n",
              " (2, 1),\n",
              " (0, 1),\n",
              " (1, 2),\n",
              " (1, 0),\n",
              " (1, 0),\n",
              " (0, 0),\n",
              " (2, 2),\n",
              " (2, 0),\n",
              " (1, 2),\n",
              " (2, 2),\n",
              " (0, 2),\n",
              " (0, 1),\n",
              " (1, 2)]"
            ]
          },
          "metadata": {
            "tags": []
          },
          "execution_count": 17
        }
      ]
    },
    {
      "cell_type": "code",
      "metadata": {
        "colab": {
          "base_uri": "https://localhost:8080/"
        },
        "id": "GoTpzL8LAiPK",
        "outputId": "6bdeabb1-dc38-4f42-8552-584d1a872d68"
      },
      "source": [
        "#building the model\n",
        "model = GaussianNB()\n",
        "model.fit(features, label)"
      ],
      "execution_count": 18,
      "outputs": [
        {
          "output_type": "execute_result",
          "data": {
            "text/plain": [
              "GaussianNB(priors=None, var_smoothing=1e-09)"
            ]
          },
          "metadata": {
            "tags": []
          },
          "execution_count": 18
        }
      ]
    },
    {
      "cell_type": "code",
      "metadata": {
        "colab": {
          "base_uri": "https://localhost:8080/"
        },
        "id": "NzsaY_F2Bp8q",
        "outputId": "9fa72ad7-f8a1-4fa6-a50b-6c4f24b1b774"
      },
      "source": [
        "pre_weather = int(input(\"Enter the weather conditions \\nOvercast : 0 \\nRainy : 1 \\nSunny : 2\\n\"))\n",
        "pre_temp = int(input(\"Enter the temperature conditons \\Cool : 0 \\nHot : 1 \\nMild : 2\\n\"))\n",
        "predicted = model.predict([[pre_weather, pre_temp]])\n",
        "\n",
        "print(predicted)"
      ],
      "execution_count": 20,
      "outputs": [
        {
          "output_type": "stream",
          "text": [
            "Enter the weather conditions \n",
            "Overcast : 0 \n",
            "Rainy : 1 \n",
            "Sunny : 2\n",
            "0\n",
            "Enter the temperature conditons \\Cool : 0 \n",
            "Hot : 1 \n",
            "Mild : 2\n",
            "2\n",
            "[1]\n"
          ],
          "name": "stdout"
        }
      ]
    },
    {
      "cell_type": "code",
      "metadata": {
        "id": "G2Qeak6aDgTD"
      },
      "source": [
        ""
      ],
      "execution_count": null,
      "outputs": []
    }
  ]
}
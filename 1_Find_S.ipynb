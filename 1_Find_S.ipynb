{
  "nbformat": 4,
  "nbformat_minor": 0,
  "metadata": {
    "colab": {
      "name": "1-Find-S.ipynb",
      "provenance": [],
      "authorship_tag": "ABX9TyO3z98bz0b/r123ANSXkm4c",
      "include_colab_link": true
    },
    "kernelspec": {
      "name": "python3",
      "display_name": "Python 3"
    }
  },
  "cells": [
    {
      "cell_type": "markdown",
      "metadata": {
        "id": "view-in-github",
        "colab_type": "text"
      },
      "source": [
        "<a href=\"https://colab.research.google.com/github/thecrazyphysicist369/machine-learning-assignement/blob/main/1_Find_S.ipynb\" target=\"_parent\"><img src=\"https://colab.research.google.com/assets/colab-badge.svg\" alt=\"Open In Colab\"/></a>"
      ]
    },
    {
      "cell_type": "markdown",
      "metadata": {
        "id": "PRxR57huZPnK"
      },
      "source": [
        "Implement the **FIND-S** algorithm for finding the most specific hypothesis based on a given\n",
        "set of training data samples. Read the training data from a .CSV file."
      ]
    },
    {
      "cell_type": "code",
      "metadata": {
        "id": "ZxdPULusTz4Q"
      },
      "source": [
        ""
      ],
      "execution_count": null,
      "outputs": []
    }
  ]
}